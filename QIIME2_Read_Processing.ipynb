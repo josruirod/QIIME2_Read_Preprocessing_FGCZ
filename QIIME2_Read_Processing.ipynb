{
  "nbformat": 4,
  "nbformat_minor": 0,
  "metadata": {
    "colab": {
      "provenance": []
    },
    "kernelspec": {
      "name": "python3",
      "display_name": "Python 3"
    },
    "language_info": {
      "name": "python"
    }
  },
  "cells": [
    {
      "cell_type": "markdown",
      "source": [
        "# QIIME 2 Tutorial: Read Processing\n",
        "\n",
        "This notebook contains materials adapted from a google colab notebook created by the QIIME2 team: https://colab.research.google.com/github/bokulich-lab/uzh-microbiome-tutorial/blob/main/01_read_processing.ipynb; all source code is licensed under the Apache License 2.0.\n",
        "\n",
        "Save your own local copy of this notebook by using `File > Save a copy in Drive`. At some point you may be prompted to trust the notebook. Trust me, it is safe 🤞\n",
        "\n",
        "**Disclaimer:**\n",
        "\n",
        "The Google Colab notebook environment will interpret any command as Python code by default. If we want to run bash commands we will have to prefix them by `!`. So any command you see with a leading `!` is a bash command and if you wanted to run it in your terminal you would omit the leading `!`. For example, if in the Colab notebook you ran `!wget` you would just run `wget` in your terminal.\n",
        "\n",
        "In this notebook we use the `!` prefix because we run all QIIME 2 commands using the [`q2cli`](https://github.com/qiime2/q2cli/) (QIIME 2 command-line interface). However, QIIME 2 also has a python API and a Galaxy interface. You can learn more about these and other QIIME 2 interfaces at https://qiime2.org/.\n",
        "\n",
        "Some steps are time-comsuming and the entire notebook may take up to 30-60 minutes, so run the entire notebook now and we will inspect the commands and results as we work through as a class."
      ],
      "metadata": {
        "id": "H67cTPid42PX"
      }
    },
    {
      "cell_type": "markdown",
      "source": [
        "## Part 1: Setup\n",
        "\n",
        "Lets start with the setup. We will import materials from a github repository and go into the materials folder. We will the run a script created by the qiime2 team to install qiime2 and all the plugins. Afterwards we will import the necessary python libraries."
      ],
      "metadata": {
        "id": "m9QrYDLzBcSX"
      }
    },
    {
      "cell_type": "code",
      "execution_count": 1,
      "metadata": {
        "id": "yUqWuhRL4uwQ",
        "outputId": "89fd2815-34ba-47ad-a6a6-b8d98cfcbd3b",
        "colab": {
          "base_uri": "https://localhost:8080/"
        }
      },
      "outputs": [
        {
          "output_type": "stream",
          "name": "stdout",
          "text": [
            "Cloning into 'materials'...\n",
            "remote: Enumerating objects: 80, done.\u001b[K\n",
            "remote: Counting objects: 100% (80/80), done.\u001b[K\n",
            "remote: Compressing objects: 100% (73/73), done.\u001b[K\n",
            "remote: Total 80 (delta 20), reused 50 (delta 5), pack-reused 0 (from 0)\u001b[K\n",
            "Receiving objects: 100% (80/80), 19.65 MiB | 16.15 MiB/s, done.\n",
            "Resolving deltas: 100% (20/20), done.\n"
          ]
        }
      ],
      "source": [
        "! git clone https://github.com/zajacn/QIIME2_Read_Preprocessing_FGCZ.git materials\n",
        "! mkdir /content/prefetch_cache"
      ]
    },
    {
      "cell_type": "code",
      "source": [
        "%cd materials"
      ],
      "metadata": {
        "id": "cVY9PniMBF_Q",
        "outputId": "368061c9-d343-4d16-ed69-625e84012433",
        "colab": {
          "base_uri": "https://localhost:8080/"
        }
      },
      "execution_count": 2,
      "outputs": [
        {
          "output_type": "stream",
          "name": "stdout",
          "text": [
            "/content/materials\n"
          ]
        }
      ]
    },
    {
      "cell_type": "markdown",
      "source": [
        "Now we are ready to set up our environment. This will take about 10 minutes.\n",
        "**Note:** This setup is only relevant for Google Colaboratory and will not work on your local machine. Please follow the [official installation instructions](https://docs.qiime2.org/2023.9/install/) for that. This setup is taken from the setup prepared by bokulich lab."
      ],
      "metadata": {
        "id": "2TxwhxvsyK_g"
      }
    },
    {
      "cell_type": "code",
      "source": [
        "%run setup_qiime2"
      ],
      "metadata": {
        "id": "cmGD9E20BHzO",
        "outputId": "bed6239c-8d7e-4267-a743-12a6d5abeccf",
        "colab": {
          "base_uri": "https://localhost:8080/",
          "height": 362
        }
      },
      "execution_count": 3,
      "outputs": [
        {
          "output_type": "display_data",
          "data": {
            "text/plain": [
              "\u001b[2;36m[09:32:46]\u001b[0m\u001b[2;36m \u001b[0m🐍 Downloading miniforge\u001b[33m...\u001b[0m                                                           \u001b]8;id=846552;file:///content/materials/setup_qiime2.py\u001b\\\u001b[2msetup_qiime2.py\u001b[0m\u001b]8;;\u001b\\\u001b[2m:\u001b[0m\u001b]8;id=473477;file:///content/materials/setup_qiime2.py#67\u001b\\\u001b[2m67\u001b[0m\u001b]8;;\u001b\\\n"
            ],
            "text/html": [
              "<pre style=\"white-space:pre;overflow-x:auto;line-height:normal;font-family:Menlo,'DejaVu Sans Mono',consolas,'Courier New',monospace\"><span style=\"color: #7fbfbf; text-decoration-color: #7fbfbf\">[09:32:46] </span>🐍 Downloading miniforge<span style=\"color: #808000; text-decoration-color: #808000\">...</span>                                                           <a href=\"file:///content/materials/setup_qiime2.py\" target=\"_blank\"><span style=\"color: #7f7f7f; text-decoration-color: #7f7f7f\">setup_qiime2.py</span></a><span style=\"color: #7f7f7f; text-decoration-color: #7f7f7f\">:</span><a href=\"file:///content/materials/setup_qiime2.py#67\" target=\"_blank\"><span style=\"color: #7f7f7f; text-decoration-color: #7f7f7f\">67</span></a>\n",
              "</pre>\n"
            ]
          },
          "metadata": {}
        },
        {
          "output_type": "display_data",
          "data": {
            "text/plain": [
              "\u001b[2;36m[09:32:47]\u001b[0m\u001b[2;36m \u001b[0m\u001b[34m🐍 Done.\u001b[0m                                                                              \u001b]8;id=459361;file:///content/materials/setup_qiime2.py\u001b\\\u001b[2msetup_qiime2.py\u001b[0m\u001b]8;;\u001b\\\u001b[2m:\u001b[0m\u001b]8;id=516023;file:///content/materials/setup_qiime2.py#73\u001b\\\u001b[2m73\u001b[0m\u001b]8;;\u001b\\\n"
            ],
            "text/html": [
              "<pre style=\"white-space:pre;overflow-x:auto;line-height:normal;font-family:Menlo,'DejaVu Sans Mono',consolas,'Courier New',monospace\"><span style=\"color: #7fbfbf; text-decoration-color: #7fbfbf\">[09:32:47] </span><span style=\"color: #000080; text-decoration-color: #000080\">🐍 Done.</span>                                                                              <a href=\"file:///content/materials/setup_qiime2.py\" target=\"_blank\"><span style=\"color: #7f7f7f; text-decoration-color: #7f7f7f\">setup_qiime2.py</span></a><span style=\"color: #7f7f7f; text-decoration-color: #7f7f7f\">:</span><a href=\"file:///content/materials/setup_qiime2.py#73\" target=\"_blank\"><span style=\"color: #7f7f7f; text-decoration-color: #7f7f7f\">73</span></a>\n",
              "</pre>\n"
            ]
          },
          "metadata": {}
        },
        {
          "output_type": "display_data",
          "data": {
            "text/plain": [
              "\u001b[2;36m          \u001b[0m\u001b[2;36m \u001b[0m🐍 Installing miniforge\u001b[33m...\u001b[0m                                                            \u001b]8;id=537656;file:///content/materials/setup_qiime2.py\u001b\\\u001b[2msetup_qiime2.py\u001b[0m\u001b]8;;\u001b\\\u001b[2m:\u001b[0m\u001b]8;id=710448;file:///content/materials/setup_qiime2.py#67\u001b\\\u001b[2m67\u001b[0m\u001b]8;;\u001b\\\n"
            ],
            "text/html": [
              "<pre style=\"white-space:pre;overflow-x:auto;line-height:normal;font-family:Menlo,'DejaVu Sans Mono',consolas,'Courier New',monospace\"><span style=\"color: #7fbfbf; text-decoration-color: #7fbfbf\">           </span>🐍 Installing miniforge<span style=\"color: #808000; text-decoration-color: #808000\">...</span>                                                            <a href=\"file:///content/materials/setup_qiime2.py\" target=\"_blank\"><span style=\"color: #7f7f7f; text-decoration-color: #7f7f7f\">setup_qiime2.py</span></a><span style=\"color: #7f7f7f; text-decoration-color: #7f7f7f\">:</span><a href=\"file:///content/materials/setup_qiime2.py#67\" target=\"_blank\"><span style=\"color: #7f7f7f; text-decoration-color: #7f7f7f\">67</span></a>\n",
              "</pre>\n"
            ]
          },
          "metadata": {}
        },
        {
          "output_type": "display_data",
          "data": {
            "text/plain": [
              "\u001b[2;36m[09:33:02]\u001b[0m\u001b[2;36m \u001b[0m\u001b[34m🐍 Installed miniforge to `\u001b[0m\u001b[34m/usr/\u001b[0m\u001b[34mlocal\u001b[0m\u001b[34m`.\u001b[0m                                               \u001b]8;id=620897;file:///content/materials/setup_qiime2.py\u001b\\\u001b[2msetup_qiime2.py\u001b[0m\u001b]8;;\u001b\\\u001b[2m:\u001b[0m\u001b]8;id=342984;file:///content/materials/setup_qiime2.py#73\u001b\\\u001b[2m73\u001b[0m\u001b]8;;\u001b\\\n"
            ],
            "text/html": [
              "<pre style=\"white-space:pre;overflow-x:auto;line-height:normal;font-family:Menlo,'DejaVu Sans Mono',consolas,'Courier New',monospace\"><span style=\"color: #7fbfbf; text-decoration-color: #7fbfbf\">[09:33:02] </span><span style=\"color: #000080; text-decoration-color: #000080\">🐍 Installed miniforge to `/usr/local`.</span>                                               <a href=\"file:///content/materials/setup_qiime2.py\" target=\"_blank\"><span style=\"color: #7f7f7f; text-decoration-color: #7f7f7f\">setup_qiime2.py</span></a><span style=\"color: #7f7f7f; text-decoration-color: #7f7f7f\">:</span><a href=\"file:///content/materials/setup_qiime2.py#73\" target=\"_blank\"><span style=\"color: #7f7f7f; text-decoration-color: #7f7f7f\">73</span></a>\n",
              "</pre>\n"
            ]
          },
          "metadata": {}
        },
        {
          "output_type": "display_data",
          "data": {
            "text/plain": [
              "\u001b[2;36m          \u001b[0m\u001b[2;36m \u001b[0m🔍 Downloading Qiime \u001b[1;36m2\u001b[0m package list\u001b[33m...\u001b[0m                                                \u001b]8;id=329530;file:///content/materials/setup_qiime2.py\u001b\\\u001b[2msetup_qiime2.py\u001b[0m\u001b]8;;\u001b\\\u001b[2m:\u001b[0m\u001b]8;id=112602;file:///content/materials/setup_qiime2.py#67\u001b\\\u001b[2m67\u001b[0m\u001b]8;;\u001b\\\n"
            ],
            "text/html": [
              "<pre style=\"white-space:pre;overflow-x:auto;line-height:normal;font-family:Menlo,'DejaVu Sans Mono',consolas,'Courier New',monospace\"><span style=\"color: #7fbfbf; text-decoration-color: #7fbfbf\">           </span>🔍 Downloading Qiime <span style=\"color: #008080; text-decoration-color: #008080; font-weight: bold\">2</span> package list<span style=\"color: #808000; text-decoration-color: #808000\">...</span>                                                <a href=\"file:///content/materials/setup_qiime2.py\" target=\"_blank\"><span style=\"color: #7f7f7f; text-decoration-color: #7f7f7f\">setup_qiime2.py</span></a><span style=\"color: #7f7f7f; text-decoration-color: #7f7f7f\">:</span><a href=\"file:///content/materials/setup_qiime2.py#67\" target=\"_blank\"><span style=\"color: #7f7f7f; text-decoration-color: #7f7f7f\">67</span></a>\n",
              "</pre>\n"
            ]
          },
          "metadata": {}
        },
        {
          "output_type": "display_data",
          "data": {
            "text/plain": [
              "\u001b[2;36m          \u001b[0m\u001b[2;36m \u001b[0m\u001b[34m🔍 Done.\u001b[0m                                                                              \u001b]8;id=323692;file:///content/materials/setup_qiime2.py\u001b\\\u001b[2msetup_qiime2.py\u001b[0m\u001b]8;;\u001b\\\u001b[2m:\u001b[0m\u001b]8;id=512923;file:///content/materials/setup_qiime2.py#73\u001b\\\u001b[2m73\u001b[0m\u001b]8;;\u001b\\\n"
            ],
            "text/html": [
              "<pre style=\"white-space:pre;overflow-x:auto;line-height:normal;font-family:Menlo,'DejaVu Sans Mono',consolas,'Courier New',monospace\"><span style=\"color: #7fbfbf; text-decoration-color: #7fbfbf\">           </span><span style=\"color: #000080; text-decoration-color: #000080\">🔍 Done.</span>                                                                              <a href=\"file:///content/materials/setup_qiime2.py\" target=\"_blank\"><span style=\"color: #7f7f7f; text-decoration-color: #7f7f7f\">setup_qiime2.py</span></a><span style=\"color: #7f7f7f; text-decoration-color: #7f7f7f\">:</span><a href=\"file:///content/materials/setup_qiime2.py#73\" target=\"_blank\"><span style=\"color: #7f7f7f; text-decoration-color: #7f7f7f\">73</span></a>\n",
              "</pre>\n"
            ]
          },
          "metadata": {}
        },
        {
          "output_type": "display_data",
          "data": {
            "text/plain": [
              "\u001b[2;36m          \u001b[0m\u001b[2;36m \u001b[0m🔍 Installing Qiime \u001b[1;36m2\u001b[0m. This may take a little bit.                                    \u001b]8;id=90837;file:///content/materials/setup_qiime2.py\u001b\\\u001b[2msetup_qiime2.py\u001b[0m\u001b]8;;\u001b\\\u001b[2m:\u001b[0m\u001b]8;id=667474;file:///content/materials/setup_qiime2.py#67\u001b\\\u001b[2m67\u001b[0m\u001b]8;;\u001b\\\n",
              "\u001b[2;36m           \u001b[0m 🕐                                                                                   \u001b[2m                  \u001b[0m\n"
            ],
            "text/html": [
              "<pre style=\"white-space:pre;overflow-x:auto;line-height:normal;font-family:Menlo,'DejaVu Sans Mono',consolas,'Courier New',monospace\"><span style=\"color: #7fbfbf; text-decoration-color: #7fbfbf\">           </span>🔍 Installing Qiime <span style=\"color: #008080; text-decoration-color: #008080; font-weight: bold\">2</span>. This may take a little bit.                                    <a href=\"file:///content/materials/setup_qiime2.py\" target=\"_blank\"><span style=\"color: #7f7f7f; text-decoration-color: #7f7f7f\">setup_qiime2.py</span></a><span style=\"color: #7f7f7f; text-decoration-color: #7f7f7f\">:</span><a href=\"file:///content/materials/setup_qiime2.py#67\" target=\"_blank\"><span style=\"color: #7f7f7f; text-decoration-color: #7f7f7f\">67</span></a>\n",
              "<span style=\"color: #7fbfbf; text-decoration-color: #7fbfbf\">           </span> 🕐                                                                                   <span style=\"color: #7f7f7f; text-decoration-color: #7f7f7f\">                  </span>\n",
              "</pre>\n"
            ]
          },
          "metadata": {}
        },
        {
          "output_type": "display_data",
          "data": {
            "text/plain": [
              "\u001b[2;36m[09:38:33]\u001b[0m\u001b[2;36m \u001b[0m\u001b[34m🔍 Done.\u001b[0m                                                                              \u001b]8;id=468801;file:///content/materials/setup_qiime2.py\u001b\\\u001b[2msetup_qiime2.py\u001b[0m\u001b]8;;\u001b\\\u001b[2m:\u001b[0m\u001b]8;id=499511;file:///content/materials/setup_qiime2.py#73\u001b\\\u001b[2m73\u001b[0m\u001b]8;;\u001b\\\n"
            ],
            "text/html": [
              "<pre style=\"white-space:pre;overflow-x:auto;line-height:normal;font-family:Menlo,'DejaVu Sans Mono',consolas,'Courier New',monospace\"><span style=\"color: #7fbfbf; text-decoration-color: #7fbfbf\">[09:38:33] </span><span style=\"color: #000080; text-decoration-color: #000080\">🔍 Done.</span>                                                                              <a href=\"file:///content/materials/setup_qiime2.py\" target=\"_blank\"><span style=\"color: #7f7f7f; text-decoration-color: #7f7f7f\">setup_qiime2.py</span></a><span style=\"color: #7f7f7f; text-decoration-color: #7f7f7f\">:</span><a href=\"file:///content/materials/setup_qiime2.py#73\" target=\"_blank\"><span style=\"color: #7f7f7f; text-decoration-color: #7f7f7f\">73</span></a>\n",
              "</pre>\n"
            ]
          },
          "metadata": {}
        },
        {
          "output_type": "display_data",
          "data": {
            "text/plain": [
              "\u001b[2;36m          \u001b[0m\u001b[2;36m \u001b[0m🌲 Installing Empress\u001b[33m...\u001b[0m                                                              \u001b]8;id=731374;file:///content/materials/setup_qiime2.py\u001b\\\u001b[2msetup_qiime2.py\u001b[0m\u001b]8;;\u001b\\\u001b[2m:\u001b[0m\u001b]8;id=385970;file:///content/materials/setup_qiime2.py#67\u001b\\\u001b[2m67\u001b[0m\u001b]8;;\u001b\\\n"
            ],
            "text/html": [
              "<pre style=\"white-space:pre;overflow-x:auto;line-height:normal;font-family:Menlo,'DejaVu Sans Mono',consolas,'Courier New',monospace\"><span style=\"color: #7fbfbf; text-decoration-color: #7fbfbf\">           </span>🌲 Installing Empress<span style=\"color: #808000; text-decoration-color: #808000\">...</span>                                                              <a href=\"file:///content/materials/setup_qiime2.py\" target=\"_blank\"><span style=\"color: #7f7f7f; text-decoration-color: #7f7f7f\">setup_qiime2.py</span></a><span style=\"color: #7f7f7f; text-decoration-color: #7f7f7f\">:</span><a href=\"file:///content/materials/setup_qiime2.py#67\" target=\"_blank\"><span style=\"color: #7f7f7f; text-decoration-color: #7f7f7f\">67</span></a>\n",
              "</pre>\n"
            ]
          },
          "metadata": {}
        },
        {
          "output_type": "display_data",
          "data": {
            "text/plain": [
              "\u001b[2;36m[09:38:38]\u001b[0m\u001b[2;36m \u001b[0m\u001b[34m🌲 Done.\u001b[0m                                                                              \u001b]8;id=360633;file:///content/materials/setup_qiime2.py\u001b\\\u001b[2msetup_qiime2.py\u001b[0m\u001b]8;;\u001b\\\u001b[2m:\u001b[0m\u001b]8;id=701714;file:///content/materials/setup_qiime2.py#73\u001b\\\u001b[2m73\u001b[0m\u001b]8;;\u001b\\\n"
            ],
            "text/html": [
              "<pre style=\"white-space:pre;overflow-x:auto;line-height:normal;font-family:Menlo,'DejaVu Sans Mono',consolas,'Courier New',monospace\"><span style=\"color: #7fbfbf; text-decoration-color: #7fbfbf\">[09:38:38] </span><span style=\"color: #000080; text-decoration-color: #000080\">🌲 Done.</span>                                                                              <a href=\"file:///content/materials/setup_qiime2.py\" target=\"_blank\"><span style=\"color: #7f7f7f; text-decoration-color: #7f7f7f\">setup_qiime2.py</span></a><span style=\"color: #7f7f7f; text-decoration-color: #7f7f7f\">:</span><a href=\"file:///content/materials/setup_qiime2.py#73\" target=\"_blank\"><span style=\"color: #7f7f7f; text-decoration-color: #7f7f7f\">73</span></a>\n",
              "</pre>\n"
            ]
          },
          "metadata": {}
        },
        {
          "output_type": "display_data",
          "data": {
            "text/plain": [
              "\u001b[2;36m          \u001b[0m\u001b[2;36m \u001b[0m📊 Checking that Qiime \u001b[1;36m2\u001b[0m command line works\u001b[33m...\u001b[0m                                        \u001b]8;id=550546;file:///content/materials/setup_qiime2.py\u001b\\\u001b[2msetup_qiime2.py\u001b[0m\u001b]8;;\u001b\\\u001b[2m:\u001b[0m\u001b]8;id=631252;file:///content/materials/setup_qiime2.py#67\u001b\\\u001b[2m67\u001b[0m\u001b]8;;\u001b\\\n"
            ],
            "text/html": [
              "<pre style=\"white-space:pre;overflow-x:auto;line-height:normal;font-family:Menlo,'DejaVu Sans Mono',consolas,'Courier New',monospace\"><span style=\"color: #7fbfbf; text-decoration-color: #7fbfbf\">           </span>📊 Checking that Qiime <span style=\"color: #008080; text-decoration-color: #008080; font-weight: bold\">2</span> command line works<span style=\"color: #808000; text-decoration-color: #808000\">...</span>                                        <a href=\"file:///content/materials/setup_qiime2.py\" target=\"_blank\"><span style=\"color: #7f7f7f; text-decoration-color: #7f7f7f\">setup_qiime2.py</span></a><span style=\"color: #7f7f7f; text-decoration-color: #7f7f7f\">:</span><a href=\"file:///content/materials/setup_qiime2.py#67\" target=\"_blank\"><span style=\"color: #7f7f7f; text-decoration-color: #7f7f7f\">67</span></a>\n",
              "</pre>\n"
            ]
          },
          "metadata": {}
        },
        {
          "output_type": "display_data",
          "data": {
            "text/plain": [
              "\u001b[2;36m[09:38:52]\u001b[0m\u001b[2;36m \u001b[0m\u001b[34m📊 Qiime \u001b[0m\u001b[1;34m2\u001b[0m\u001b[34m command line looks good 🎉\u001b[0m                                                 \u001b]8;id=472929;file:///content/materials/setup_qiime2.py\u001b\\\u001b[2msetup_qiime2.py\u001b[0m\u001b]8;;\u001b\\\u001b[2m:\u001b[0m\u001b]8;id=574579;file:///content/materials/setup_qiime2.py#73\u001b\\\u001b[2m73\u001b[0m\u001b]8;;\u001b\\\n"
            ],
            "text/html": [
              "<pre style=\"white-space:pre;overflow-x:auto;line-height:normal;font-family:Menlo,'DejaVu Sans Mono',consolas,'Courier New',monospace\"><span style=\"color: #7fbfbf; text-decoration-color: #7fbfbf\">[09:38:52] </span><span style=\"color: #000080; text-decoration-color: #000080\">📊 Qiime </span><span style=\"color: #000080; text-decoration-color: #000080; font-weight: bold\">2</span><span style=\"color: #000080; text-decoration-color: #000080\"> command line looks good 🎉</span>                                                 <a href=\"file:///content/materials/setup_qiime2.py\" target=\"_blank\"><span style=\"color: #7f7f7f; text-decoration-color: #7f7f7f\">setup_qiime2.py</span></a><span style=\"color: #7f7f7f; text-decoration-color: #7f7f7f\">:</span><a href=\"file:///content/materials/setup_qiime2.py#73\" target=\"_blank\"><span style=\"color: #7f7f7f; text-decoration-color: #7f7f7f\">73</span></a>\n",
              "</pre>\n"
            ]
          },
          "metadata": {}
        },
        {
          "output_type": "display_data",
          "data": {
            "text/plain": [
              "\u001b[2;36m          \u001b[0m\u001b[2;36m \u001b[0m🧹 Cleaned up unneeded files.                                                         \u001b]8;id=897873;file:///content/materials/setup_qiime2.py\u001b\\\u001b[2msetup_qiime2.py\u001b[0m\u001b]8;;\u001b\\\u001b[2m:\u001b[0m\u001b]8;id=825814;file:///content/materials/setup_qiime2.py#62\u001b\\\u001b[2m62\u001b[0m\u001b]8;;\u001b\\\n"
            ],
            "text/html": [
              "<pre style=\"white-space:pre;overflow-x:auto;line-height:normal;font-family:Menlo,'DejaVu Sans Mono',consolas,'Courier New',monospace\"><span style=\"color: #7fbfbf; text-decoration-color: #7fbfbf\">           </span>🧹 Cleaned up unneeded files.                                                         <a href=\"file:///content/materials/setup_qiime2.py\" target=\"_blank\"><span style=\"color: #7f7f7f; text-decoration-color: #7f7f7f\">setup_qiime2.py</span></a><span style=\"color: #7f7f7f; text-decoration-color: #7f7f7f\">:</span><a href=\"file:///content/materials/setup_qiime2.py#62\" target=\"_blank\"><span style=\"color: #7f7f7f; text-decoration-color: #7f7f7f\">62</span></a>\n",
              "</pre>\n"
            ]
          },
          "metadata": {}
        },
        {
          "output_type": "display_data",
          "data": {
            "text/plain": [
              "\u001b[2;36m          \u001b[0m\u001b[2;36m \u001b[0m\u001b[32mEverything is A-OK. You can start using Qiime \u001b[0m\u001b[1;32m2\u001b[0m\u001b[32m now 👍\u001b[0m                               \u001b]8;id=582915;file:///content/materials/setup_qiime2.py\u001b\\\u001b[2msetup_qiime2.py\u001b[0m\u001b]8;;\u001b\\\u001b[2m:\u001b[0m\u001b]8;id=510879;file:///content/materials/setup_qiime2.py#149\u001b\\\u001b[2m149\u001b[0m\u001b]8;;\u001b\\\n"
            ],
            "text/html": [
              "<pre style=\"white-space:pre;overflow-x:auto;line-height:normal;font-family:Menlo,'DejaVu Sans Mono',consolas,'Courier New',monospace\"><span style=\"color: #7fbfbf; text-decoration-color: #7fbfbf\">           </span><span style=\"color: #008000; text-decoration-color: #008000\">Everything is A-OK. You can start using Qiime </span><span style=\"color: #008000; text-decoration-color: #008000; font-weight: bold\">2</span><span style=\"color: #008000; text-decoration-color: #008000\"> now 👍</span>                               <a href=\"file:///content/materials/setup_qiime2.py\" target=\"_blank\"><span style=\"color: #7f7f7f; text-decoration-color: #7f7f7f\">setup_qiime2.py</span></a><span style=\"color: #7f7f7f; text-decoration-color: #7f7f7f\">:</span><a href=\"file:///content/materials/setup_qiime2.py#149\" target=\"_blank\"><span style=\"color: #7f7f7f; text-decoration-color: #7f7f7f\">149</span></a>\n",
              "</pre>\n"
            ]
          },
          "metadata": {}
        }
      ]
    },
    {
      "cell_type": "code",
      "source": [
        "import numpy as np\n",
        "import pandas as pd\n",
        "import seaborn as sns"
      ],
      "metadata": {
        "id": "HY48M_CgBY2-"
      },
      "execution_count": 4,
      "outputs": []
    },
    {
      "cell_type": "markdown",
      "source": [
        "## Part 2: Import the data.\n",
        "\n",
        "First what we need to do is convert the fastq sequenced reads into a single object in a qiime2 format (with a qza extension). In order to do that you need a manifest file (manifest.tsv) which provides qiime2 with the absolute path to all the reads. You also need to specify the type of the data and the input format.\n",
        "\n",
        "Lets check first what are the possible input formats. See the following link for more information: https://docs.qiime2.org/2024.2/tutorials/importing/\n"
      ],
      "metadata": {
        "id": "Ffr0Ek_hCeih"
      }
    },
    {
      "cell_type": "code",
      "source": [
        "!qiime tools list-formats --importable"
      ],
      "metadata": {
        "id": "NJwG57tiFcy0",
        "outputId": "d0e59193-2adb-4911-f63f-97aef51ee516",
        "colab": {
          "base_uri": "https://localhost:8080/"
        }
      },
      "execution_count": 7,
      "outputs": [
        {
          "output_type": "stream",
          "name": "stdout",
          "text": [
            "\u001b[1mAlignedDNAFASTAFormat\u001b[0m\n",
            "\u001b[3m\tNo description\u001b[0m\n",
            "\n",
            "\u001b[1mAlignedDNASequencesDirectoryFormat\u001b[0m\n",
            "\u001b[3m\tNo description\u001b[0m\n",
            "\n",
            "\u001b[1mAlignedProteinFASTAFormat\u001b[0m\n",
            "\u001b[3m\tNo description\u001b[0m\n",
            "\n",
            "\u001b[1mAlignedProteinSequencesDirectoryFormat\u001b[0m\n",
            "\u001b[3m\tNo description\u001b[0m\n",
            "\n",
            "\u001b[1mAlignedRNAFASTAFormat\u001b[0m\n",
            "\u001b[3m\tNo description\u001b[0m\n",
            "\n",
            "\u001b[1mAlignedRNASequencesDirectoryFormat\u001b[0m\n",
            "\u001b[3m\tNo description\u001b[0m\n",
            "\n",
            "\u001b[1mAlphaDiversityDirectoryFormat\u001b[0m\n",
            "\u001b[3m\tNo description\u001b[0m\n",
            "\n",
            "\u001b[1mAlphaDiversityFormat\u001b[0m\n",
            "\u001b[3m\tNo description\u001b[0m\n",
            "\n",
            "\u001b[1mArtificialGroupingDirectoryFormat\u001b[0m\n",
            "\u001b[3m\tNo description\u001b[0m\n",
            "\n",
            "\u001b[1mArtificialGroupingFormat\u001b[0m\n",
            "\u001b[3m\tNo description\u001b[0m\n",
            "\n",
            "\u001b[1mBIOMV100DirFmt\u001b[0m\n",
            "\u001b[3m\tNo description\u001b[0m\n",
            "\n",
            "\u001b[1mBIOMV100Format\u001b[0m\n",
            "\u001b[3m\tNo description\u001b[0m\n",
            "\n",
            "\u001b[1mBIOMV210DirFmt\u001b[0m\n",
            "\u001b[3m\tNo description\u001b[0m\n",
            "\n",
            "\u001b[1mBIOMV210Format\u001b[0m\n",
            "\u001b[3m\tNo description\u001b[0m\n",
            "\n",
            "\u001b[1mBLAST6DirectoryFormat\u001b[0m\n",
            "\u001b[3m\tNo description\u001b[0m\n",
            "\n",
            "\u001b[1mBLAST6Format\u001b[0m\n",
            "\u001b[3m\tNo description\u001b[0m\n",
            "\n",
            "\u001b[1mBLASTDBDirFmtV5\u001b[0m\n",
            "\u001b[3m\tNo description\u001b[0m\n",
            "\n",
            "\u001b[1mBooleanSeriesDirectoryFormat\u001b[0m\n",
            "\u001b[3m\tNo description\u001b[0m\n",
            "\n",
            "\u001b[1mBooleanSeriesFormat\u001b[0m\n",
            "\u001b[3m\tNo description\u001b[0m\n",
            "\n",
            "\u001b[1mBowtie2IndexDirFmt\u001b[0m\n",
            "\u001b[3m\tNo description\u001b[0m\n",
            "\n",
            "\u001b[1mCasavaOneEightLanelessPerSampleDirFmt\u001b[0m\n",
            "\u001b[3m\tNo description\u001b[0m\n",
            "\n",
            "\u001b[1mCasavaOneEightSingleLanePerSampleDirFmt\u001b[0m\n",
            "\u001b[3m\tNo description\u001b[0m\n",
            "\n",
            "\u001b[1mDADA2StatsDirFmt\u001b[0m\n",
            "\u001b[3m\tNo description\u001b[0m\n",
            "\n",
            "\u001b[1mDADA2StatsFormat\u001b[0m\n",
            "\u001b[3m\tNo description\u001b[0m\n",
            "\n",
            "\u001b[1mDNAFASTAFormat\u001b[0m\n",
            "\u001b[3m\tNo description\u001b[0m\n",
            "\n",
            "\u001b[1mDNASequencesDirectoryFormat\u001b[0m\n",
            "\u001b[3m\tNo description\u001b[0m\n",
            "\n",
            "\u001b[1mDataLoafPackageDirFmt\u001b[0m\n",
            "\u001b[3m\tNo description\u001b[0m\n",
            "\n",
            "\u001b[1mDeblurStatsDirFmt\u001b[0m\n",
            "\u001b[3m\tNo description\u001b[0m\n",
            "\n",
            "\u001b[1mDeblurStatsFmt\u001b[0m\n",
            "\u001b[3m\tNo description\u001b[0m\n",
            "\n",
            "\u001b[1mDecontamScoreDirFmt\u001b[0m\n",
            "\u001b[3m\tNo description\u001b[0m\n",
            "\n",
            "\u001b[1mDecontamScoreFormat\u001b[0m\n",
            "\u001b[3m\tNo description\u001b[0m\n",
            "\n",
            "\u001b[1mDifferentialDirectoryFormat\u001b[0m\n",
            "\u001b[3m\tNo description\u001b[0m\n",
            "\n",
            "\u001b[1mDifferentialFormat\u001b[0m\n",
            "\u001b[3m\tNo description\u001b[0m\n",
            "\n",
            "\u001b[1mDistanceMatrixDirectoryFormat\u001b[0m\n",
            "\u001b[3m\tNo description\u001b[0m\n",
            "\n",
            "\u001b[1mEMPPairedEndCasavaDirFmt\u001b[0m\n",
            "\u001b[3m\tNo description\u001b[0m\n",
            "\n",
            "\u001b[1mEMPPairedEndDirFmt\u001b[0m\n",
            "\u001b[3m\tNo description\u001b[0m\n",
            "\n",
            "\u001b[1mEMPSingleEndCasavaDirFmt\u001b[0m\n",
            "\u001b[3m\tNo description\u001b[0m\n",
            "\n",
            "\u001b[1mEMPSingleEndDirFmt\u001b[0m\n",
            "\u001b[3m\tNo description\u001b[0m\n",
            "\n",
            "\u001b[1mErrorCorrectionDetailsDirFmt\u001b[0m\n",
            "\u001b[3m\tNo description\u001b[0m\n",
            "\n",
            "\u001b[1mFastqGzFormat\u001b[0m\n",
            "\tA gzipped fastq file.\n",
            "\n",
            "\u001b[1mFirstDifferencesDirectoryFormat\u001b[0m\n",
            "\u001b[3m\tNo description\u001b[0m\n",
            "\n",
            "\u001b[1mFirstDifferencesFormat\u001b[0m\n",
            "\u001b[3m\tNo description\u001b[0m\n",
            "\n",
            "\u001b[1mHeaderlessTSVTaxonomyDirectoryFormat\u001b[0m\n",
            "\u001b[3m\tNo description\u001b[0m\n",
            "\n",
            "\u001b[1mHeaderlessTSVTaxonomyFormat\u001b[0m\n",
            "\tFormat for a 2+ column TSV file without a header.\n",
            "\n",
            "\u001b[1mImmutableMetadataDirectoryFormat\u001b[0m\n",
            "\u001b[3m\tNo description\u001b[0m\n",
            "\n",
            "\u001b[1mImmutableMetadataFormat\u001b[0m\n",
            "\u001b[3m\tNo description\u001b[0m\n",
            "\n",
            "\u001b[1mImportanceDirectoryFormat\u001b[0m\n",
            "\u001b[3m\tNo description\u001b[0m\n",
            "\n",
            "\u001b[1mImportanceFormat\u001b[0m\n",
            "\u001b[3m\tNo description\u001b[0m\n",
            "\n",
            "\u001b[1mLSMatFormat\u001b[0m\n",
            "\u001b[3m\tNo description\u001b[0m\n",
            "\n",
            "\u001b[1mMAGtoContigsDirFmt\u001b[0m\n",
            "\u001b[3m\tNo description\u001b[0m\n",
            "\n",
            "\u001b[1mMAGtoContigsFormat\u001b[0m\n",
            "\u001b[3m\tNo description\u001b[0m\n",
            "\n",
            "\u001b[1mMixedCaseAlignedDNAFASTAFormat\u001b[0m\n",
            "\u001b[3m\tNo description\u001b[0m\n",
            "\n",
            "\u001b[1mMixedCaseAlignedDNASequencesDirectoryFormat\u001b[0m\n",
            "\u001b[3m\tNo description\u001b[0m\n",
            "\n",
            "\u001b[1mMixedCaseAlignedRNAFASTAFormat\u001b[0m\n",
            "\u001b[3m\tNo description\u001b[0m\n",
            "\n",
            "\u001b[1mMixedCaseAlignedRNASequencesDirectoryFormat\u001b[0m\n",
            "\u001b[3m\tNo description\u001b[0m\n",
            "\n",
            "\u001b[1mMixedCaseDNAFASTAFormat\u001b[0m\n",
            "\u001b[3m\tNo description\u001b[0m\n",
            "\n",
            "\u001b[1mMixedCaseDNASequencesDirectoryFormat\u001b[0m\n",
            "\u001b[3m\tNo description\u001b[0m\n",
            "\n",
            "\u001b[1mMixedCaseRNAFASTAFormat\u001b[0m\n",
            "\u001b[3m\tNo description\u001b[0m\n",
            "\n",
            "\u001b[1mMixedCaseRNASequencesDirectoryFormat\u001b[0m\n",
            "\u001b[3m\tNo description\u001b[0m\n",
            "\n",
            "\u001b[1mMultiplexedFastaQualDirFmt\u001b[0m\n",
            "\u001b[3m\tNo description\u001b[0m\n",
            "\n",
            "\u001b[1mMultiplexedPairedEndBarcodeInSequenceDirFmt\u001b[0m\n",
            "\u001b[3m\tNo description\u001b[0m\n",
            "\n",
            "\u001b[1mMultiplexedSingleEndBarcodeInSequenceDirFmt\u001b[0m\n",
            "\u001b[3m\tNo description\u001b[0m\n",
            "\n",
            "\u001b[1mNewickDirectoryFormat\u001b[0m\n",
            "\u001b[3m\tNo description\u001b[0m\n",
            "\n",
            "\u001b[1mNewickFormat\u001b[0m\n",
            "\u001b[3m\tNo description\u001b[0m\n",
            "\n",
            "\u001b[1mOrdinationDirectoryFormat\u001b[0m\n",
            "\u001b[3m\tNo description\u001b[0m\n",
            "\n",
            "\u001b[1mOrdinationFormat\u001b[0m\n",
            "\u001b[3m\tNo description\u001b[0m\n",
            "\n",
            "\u001b[1mPairedDNASequencesDirectoryFormat\u001b[0m\n",
            "\u001b[3m\tNo description\u001b[0m\n",
            "\n",
            "\u001b[1mPairedEndFastqManifestPhred33\u001b[0m\n",
            "\u001b[3m\tNo description\u001b[0m\n",
            "\n",
            "\u001b[1mPairedEndFastqManifestPhred33V2\u001b[0m\n",
            "\u001b[3m\tNo description\u001b[0m\n",
            "\n",
            "\u001b[1mPairedEndFastqManifestPhred64\u001b[0m\n",
            "\u001b[3m\tNo description\u001b[0m\n",
            "\n",
            "\u001b[1mPairedEndFastqManifestPhred64V2\u001b[0m\n",
            "\u001b[3m\tNo description\u001b[0m\n",
            "\n",
            "\u001b[1mPairedRNASequencesDirectoryFormat\u001b[0m\n",
            "\u001b[3m\tNo description\u001b[0m\n",
            "\n",
            "\u001b[1mPlacementsDirFmt\u001b[0m\n",
            "\u001b[3m\tNo description\u001b[0m\n",
            "\n",
            "\u001b[1mPlacementsFormat\u001b[0m\n",
            "\u001b[3m\tNo description\u001b[0m\n",
            "\n",
            "\u001b[1mPredictionsDirectoryFormat\u001b[0m\n",
            "\u001b[3m\tNo description\u001b[0m\n",
            "\n",
            "\u001b[1mPredictionsFormat\u001b[0m\n",
            "\u001b[3m\tNo description\u001b[0m\n",
            "\n",
            "\u001b[1mProbabilitiesDirectoryFormat\u001b[0m\n",
            "\u001b[3m\tNo description\u001b[0m\n",
            "\n",
            "\u001b[1mProbabilitiesFormat\u001b[0m\n",
            "\u001b[3m\tNo description\u001b[0m\n",
            "\n",
            "\u001b[1mProcrustesStatisticsDirFmt\u001b[0m\n",
            "\u001b[3m\tNo description\u001b[0m\n",
            "\n",
            "\u001b[1mProcrustesStatisticsFmt\u001b[0m\n",
            "\u001b[3m\tNo description\u001b[0m\n",
            "\n",
            "\u001b[1mProteinFASTAFormat\u001b[0m\n",
            "\u001b[3m\tNo description\u001b[0m\n",
            "\n",
            "\u001b[1mProteinSequencesDirectoryFormat\u001b[0m\n",
            "\u001b[3m\tNo description\u001b[0m\n",
            "\n",
            "\u001b[1mQIIME1DemuxDirFmt\u001b[0m\n",
            "\u001b[3m\tNo description\u001b[0m\n",
            "\n",
            "\u001b[1mQIIME1DemuxFormat\u001b[0m\n",
            "\tQIIME 1 demultiplexed FASTA format.\n",
            "\n",
            "\u001b[1mQualityFilterStatsDirFmt\u001b[0m\n",
            "\u001b[3m\tNo description\u001b[0m\n",
            "\n",
            "\u001b[1mQualityFilterStatsFmt\u001b[0m\n",
            "\u001b[3m\tNo description\u001b[0m\n",
            "\n",
            "\u001b[1mRNAFASTAFormat\u001b[0m\n",
            "\u001b[3m\tNo description\u001b[0m\n",
            "\n",
            "\u001b[1mRNASequencesDirectoryFormat\u001b[0m\n",
            "\u001b[3m\tNo description\u001b[0m\n",
            "\n",
            "\u001b[1mSampleEstimatorDirFmt\u001b[0m\n",
            "\u001b[3m\tNo description\u001b[0m\n",
            "\n",
            "\u001b[1mSampleIdIndexedSingleEndPerSampleDirFmt\u001b[0m\n",
            "\tSingle-end reads in fastq.gz files where base filename is the\n",
            "\tsample id\n",
            "\n",
            "\u001b[1mSeppReferenceDirFmt\u001b[0m\n",
            "\u001b[3m\tNo description\u001b[0m\n",
            "\n",
            "\u001b[1mSingleEndFastqManifestPhred33\u001b[0m\n",
            "\u001b[3m\tNo description\u001b[0m\n",
            "\n",
            "\u001b[1mSingleEndFastqManifestPhred33V2\u001b[0m\n",
            "\u001b[3m\tNo description\u001b[0m\n",
            "\n",
            "\u001b[1mSingleEndFastqManifestPhred64\u001b[0m\n",
            "\u001b[3m\tNo description\u001b[0m\n",
            "\n",
            "\u001b[1mSingleEndFastqManifestPhred64V2\u001b[0m\n",
            "\u001b[3m\tNo description\u001b[0m\n",
            "\n",
            "\u001b[1mSingleLanePerSamplePairedEndFastqDirFmt\u001b[0m\n",
            "\u001b[3m\tNo description\u001b[0m\n",
            "\n",
            "\u001b[1mSingleLanePerSampleSingleEndFastqDirFmt\u001b[0m\n",
            "\u001b[3m\tNo description\u001b[0m\n",
            "\n",
            "\u001b[1mTSVTaxonomyDirectoryFormat\u001b[0m\n",
            "\u001b[3m\tNo description\u001b[0m\n",
            "\n",
            "\u001b[1mTSVTaxonomyFormat\u001b[0m\n",
            "\tFormat for a 2+ column TSV file with an expected minimal\n",
            "\theader.\n",
            "\n",
            "\u001b[1mTaxonomicClassiferTemporaryPickleDirFmt\u001b[0m\n",
            "\u001b[3m\tNo description\u001b[0m\n",
            "\n",
            "\u001b[1mTrueTargetsDirectoryFormat\u001b[0m\n",
            "\u001b[3m\tNo description\u001b[0m\n",
            "\n",
            "\u001b[1mUchimeStatsDirFmt\u001b[0m\n",
            "\u001b[3m\tNo description\u001b[0m\n",
            "\n",
            "\u001b[1mUchimeStatsFmt\u001b[0m\n",
            "\u001b[3m\tNo description\u001b[0m\n",
            "\n",
            "\u001b[0m"
          ]
        }
      ]
    },
    {
      "cell_type": "markdown",
      "source": [
        "As you can see you can import any type of data. If you want to start running qiime2 from any type of data you have previously analysed with another tools, you can also do that. Just find the right format to import. Ok lets run the import then."
      ],
      "metadata": {
        "id": "zHUsVU57Fnyr"
      }
    },
    {
      "cell_type": "code",
      "source": [
        "!qiime tools import --type SampleData[SequencesWithQuality] \\\n",
        "                    --input-path data/manifest.tsv \\\n",
        "                    --output-path data/demux_seqs.qza \\\n",
        "                    --input-format SingleEndFastqManifestPhred33V2"
      ],
      "metadata": {
        "id": "1ynNEx4vCZKY",
        "outputId": "f7d412fb-8dfd-43d9-ab2f-66af096f8c67",
        "colab": {
          "base_uri": "https://localhost:8080/"
        }
      },
      "execution_count": 8,
      "outputs": [
        {
          "output_type": "stream",
          "name": "stdout",
          "text": [
            "\u001b[32mImported data/manifest.tsv as SingleEndFastqManifestPhred33V2 to data/demux_seqs.qza\u001b[0m\n",
            "\u001b[0m"
          ]
        }
      ]
    },
    {
      "cell_type": "code",
      "source": [
        "!qiime demux summarize --i-data data/demux_seqs.qza \\\n",
        "                       --o-visualization demux_seqs.qzv"
      ],
      "metadata": {
        "id": "rHm9hOe9F8wN",
        "outputId": "69c96955-49ca-490e-d1e2-b8df3d657b4c",
        "colab": {
          "base_uri": "https://localhost:8080/"
        }
      },
      "execution_count": 9,
      "outputs": [
        {
          "output_type": "stream",
          "name": "stdout",
          "text": [
            "\u001b[32mSaved Visualization to: demux_seqs.qzv\u001b[0m\n",
            "\u001b[0m"
          ]
        }
      ]
    },
    {
      "cell_type": "markdown",
      "source": [
        "Now have a look at the demux_seqs.qzv file. How do you do that? You have to go to the folder icon: on the left (just underneath 🔑). Find the demux_seqs.qzv file and download it onto your computer. Then go to [view.qiime2.org](https://view.qiime2.org) and upload that file there. This will produce a report.\n",
        "\n",
        "\n",
        "Question: How should you trim your reads?"
      ],
      "metadata": {
        "id": "UJAw3tDHGCCt"
      }
    },
    {
      "cell_type": "markdown",
      "source": [
        "## Part 3. Denoise amplicon sequence variants.\n",
        "\n",
        "Now that you have imported your reads into qiime you want to construct a feature table. Feature table is a type of artifact accepted by many QIIME 2 plugins/actions and used in many downstream analyses.\n",
        "\n",
        "There are several ways to construct a feature table in QIIME 2. The major choice to make while working with sequencing data is between ASVs and OTUs. ASVs - clustering the reads by 99%-100% similarity, OTUs - clustering the reads by 97% similarity. Below you will see how to perform denoising of sequences to produce a table of ASVs.\n",
        "\n",
        "DADA2: Amplicon Sequence Variants\n",
        "There exist several tools one can use for denoising of NGS reads. Here, we will use DADA2 to create a feature table of ASVs. DADA2 builds an error model which can identify differences between sequences, filters out noisy sequences and generates a feature table with error-corrected sequences.\n",
        "\n",
        "To denoise the single-end reads we execute the cell below, specifying some additional parameters/outputs:\n",
        "\n",
        "*   p-trunc-len - we will truncate the reads to 135 bp (sequences shorter than this will be removed automatically)\n",
        "*   p-n-threads - if we have more than 1 CPU available, we can specify the number here to make the processing faster\n",
        "*   output-dir:\n",
        "  *   o-table - this will be our ASVs feature table\n",
        "  *   o-representative-sequences - this will be a list of all the denoised features (DNA sequences)\n",
        "  *   o-denoising-stats - this will be some stats from the denoising process"
      ],
      "metadata": {
        "id": "pbWJ-xCqHoNn"
      }
    },
    {
      "cell_type": "code",
      "source": [
        "!qiime dada2 denoise-single --i-demultiplexed-seqs data/demux_seqs.qza  \\\n",
        "                            --p-trunc-len 135   \\\n",
        "                            --o-table table.qza   \\\n",
        "                            --o-representative-sequences dada2_rep_set.qza   \\\n",
        "                            --o-denoising-stats dada2_denoising_stats.qza"
      ],
      "metadata": {
        "colab": {
          "base_uri": "https://localhost:8080/"
        },
        "id": "W6TjxhXtI7us",
        "outputId": "a34f9bc7-31bd-4b79-fd42-04d55baeff28"
      },
      "execution_count": 10,
      "outputs": [
        {
          "output_type": "stream",
          "name": "stdout",
          "text": [
            "\u001b[32mSaved FeatureTable[Frequency] to: table.qza\u001b[0m\n",
            "\u001b[32mSaved FeatureData[Sequence] to: dada2_rep_set.qza\u001b[0m\n",
            "\u001b[32mSaved SampleData[DADA2Stats] to: dada2_denoising_stats.qza\u001b[0m\n",
            "\u001b[0m"
          ]
        }
      ]
    },
    {
      "cell_type": "code",
      "source": [
        "# Optional\n",
        "! qiime metadata tabulate \\\n",
        "    --m-input-file dada2_denoising_stats.qza \\\n",
        "    --o-visualization dada2_denoising_stats.qzv"
      ],
      "metadata": {
        "id": "NO5YO5FWJego",
        "outputId": "22bf1269-bc23-4782-cf38-4b15db0fbb51",
        "colab": {
          "base_uri": "https://localhost:8080/"
        }
      },
      "execution_count": 11,
      "outputs": [
        {
          "output_type": "stream",
          "name": "stdout",
          "text": [
            "\u001b[32mSaved Visualization to: dada2_denoising_stats.qzv\u001b[0m\n",
            "\u001b[0m"
          ]
        }
      ]
    },
    {
      "cell_type": "code",
      "source": [
        "! qiime feature-table summarize \\\n",
        "    --i-table table.qza \\\n",
        "    --m-sample-metadata-file data/sample_metadata.tsv \\\n",
        "    --o-visualization table.qzv"
      ],
      "metadata": {
        "id": "AuBsdBLMJiMA",
        "outputId": "a24df2f5-771f-476b-bccc-c3fee3e14f72",
        "colab": {
          "base_uri": "https://localhost:8080/"
        }
      },
      "execution_count": 12,
      "outputs": [
        {
          "output_type": "stream",
          "name": "stdout",
          "text": [
            "\u001b[32mSaved Visualization to: table.qzv\u001b[0m\n",
            "\u001b[0m"
          ]
        }
      ]
    },
    {
      "cell_type": "code",
      "source": [
        "# Optional\n",
        "! qiime feature-table tabulate-seqs \\\n",
        "    --i-data dada2_rep_set.qza \\\n",
        "    --o-visualization representative_sequences.qzv"
      ],
      "metadata": {
        "id": "z4E_V3tIJlYi",
        "outputId": "a87f4c8b-ab6b-4c4a-fbc6-307703e2db04",
        "colab": {
          "base_uri": "https://localhost:8080/"
        }
      },
      "execution_count": 13,
      "outputs": [
        {
          "output_type": "stream",
          "name": "stdout",
          "text": [
            "\u001b[32mSaved Visualization to: representative_sequences.qzv\u001b[0m\n",
            "\u001b[0m"
          ]
        }
      ]
    },
    {
      "cell_type": "markdown",
      "source": [
        "After you have run all of these commands, have a look at the reports. As per usual, download .qzv files and upload them to view.qiime2.org.\n",
        "\n",
        "\n",
        "Questions:\n",
        " * What is the percentage or reads that remains after all the filtering?"
      ],
      "metadata": {
        "id": "1bEd88jqJmRh"
      }
    },
    {
      "cell_type": "markdown",
      "source": [
        "## Part 4. Generate a phylogenetic tree.\n",
        "\n",
        "We need to now generate a phylogenetic tree for diversity metrics. A tree is usually generate in a newick format and you can view that file using [iTOL](https://itol.embl.de/upload.cgi) or [phylo.io](https://beta.phylo.io/viewer/)."
      ],
      "metadata": {
        "id": "fCNqAfcAP-5j"
      }
    },
    {
      "cell_type": "code",
      "source": [
        "! qiime phylogeny align-to-tree-mafft-fasttree \\\n",
        "    --i-sequences dada2_rep_set.qza \\\n",
        "    --output-dir phylogeny"
      ],
      "metadata": {
        "id": "KxFkJLecP-CK",
        "outputId": "87a225bc-a4e6-4a62-ca1f-6bb2b7f63104",
        "colab": {
          "base_uri": "https://localhost:8080/"
        }
      },
      "execution_count": 14,
      "outputs": [
        {
          "output_type": "stream",
          "name": "stdout",
          "text": [
            "\u001b[32mSaved FeatureData[AlignedSequence] to: phylogeny/alignment.qza\u001b[0m\n",
            "\u001b[32mSaved FeatureData[AlignedSequence] to: phylogeny/masked_alignment.qza\u001b[0m\n",
            "\u001b[32mSaved Phylogeny[Unrooted] to: phylogeny/tree.qza\u001b[0m\n",
            "\u001b[32mSaved Phylogeny[Rooted] to: phylogeny/rooted_tree.qza\u001b[0m\n",
            "\u001b[0m"
          ]
        }
      ]
    },
    {
      "cell_type": "markdown",
      "source": [
        "### Lets estimate some diversity metrics\n",
        "\n",
        "First lets generate all diversity metrics. This is usually done by subsampling all samples to the same depth. If you have a huge variability in the depth of your samples this will cause loss of information from the samples that are have higher sequencing depht then the rest.\n",
        "\n",
        "Afterwards we measure the significance in faith PD alpha diversity across all the samples.\n",
        "\n",
        "And the finally we will create an Emperor plot (3D PCA) plot\n"
      ],
      "metadata": {
        "id": "I7YC_c3xQ96c"
      }
    },
    {
      "cell_type": "code",
      "source": [
        "! qiime diversity core-metrics-phylogenetic \\\n",
        "    --i-phylogeny phylogeny/rooted_tree.qza \\\n",
        "    --i-table table.qza \\\n",
        "    --p-sampling-depth 1100 \\\n",
        "    --m-metadata-file data/sample_metadata.tsv \\\n",
        "    --output-dir core-metrics-results"
      ],
      "metadata": {
        "id": "Mx4Fe0UMn4jn",
        "outputId": "7a670801-98c5-4479-9fb5-c25874d588de",
        "colab": {
          "base_uri": "https://localhost:8080/"
        }
      },
      "execution_count": 15,
      "outputs": [
        {
          "output_type": "stream",
          "name": "stdout",
          "text": [
            "\u001b[32mSaved FeatureTable[Frequency] to: core-metrics-results/rarefied_table.qza\u001b[0m\n",
            "\u001b[32mSaved SampleData[AlphaDiversity] to: core-metrics-results/faith_pd_vector.qza\u001b[0m\n",
            "\u001b[32mSaved SampleData[AlphaDiversity] to: core-metrics-results/observed_features_vector.qza\u001b[0m\n",
            "\u001b[32mSaved SampleData[AlphaDiversity] to: core-metrics-results/shannon_vector.qza\u001b[0m\n",
            "\u001b[32mSaved SampleData[AlphaDiversity] to: core-metrics-results/evenness_vector.qza\u001b[0m\n",
            "\u001b[32mSaved DistanceMatrix to: core-metrics-results/unweighted_unifrac_distance_matrix.qza\u001b[0m\n",
            "\u001b[32mSaved DistanceMatrix to: core-metrics-results/weighted_unifrac_distance_matrix.qza\u001b[0m\n",
            "\u001b[32mSaved DistanceMatrix to: core-metrics-results/jaccard_distance_matrix.qza\u001b[0m\n",
            "\u001b[32mSaved DistanceMatrix to: core-metrics-results/bray_curtis_distance_matrix.qza\u001b[0m\n",
            "\u001b[32mSaved PCoAResults to: core-metrics-results/unweighted_unifrac_pcoa_results.qza\u001b[0m\n",
            "\u001b[32mSaved PCoAResults to: core-metrics-results/weighted_unifrac_pcoa_results.qza\u001b[0m\n",
            "\u001b[32mSaved PCoAResults to: core-metrics-results/jaccard_pcoa_results.qza\u001b[0m\n",
            "\u001b[32mSaved PCoAResults to: core-metrics-results/bray_curtis_pcoa_results.qza\u001b[0m\n",
            "\u001b[32mSaved Visualization to: core-metrics-results/unweighted_unifrac_emperor.qzv\u001b[0m\n",
            "\u001b[32mSaved Visualization to: core-metrics-results/weighted_unifrac_emperor.qzv\u001b[0m\n",
            "\u001b[32mSaved Visualization to: core-metrics-results/jaccard_emperor.qzv\u001b[0m\n",
            "\u001b[32mSaved Visualization to: core-metrics-results/bray_curtis_emperor.qzv\u001b[0m\n",
            "\u001b[0m"
          ]
        }
      ]
    },
    {
      "cell_type": "code",
      "source": [
        "! qiime diversity alpha-group-significance \\\n",
        "    --i-alpha-diversity core-metrics-results/faith_pd_vector.qza \\\n",
        "    --m-metadata-file data/sample_metadata.tsv \\\n",
        "    --o-visualization core-metrics-results/faith_pd_group_significance.qzv"
      ],
      "metadata": {
        "id": "sh14HDELn5IK",
        "outputId": "ce0c53a0-9305-4fec-e73f-62e0076628a6",
        "colab": {
          "base_uri": "https://localhost:8080/"
        }
      },
      "execution_count": 16,
      "outputs": [
        {
          "output_type": "stream",
          "name": "stdout",
          "text": [
            "\u001b[32mSaved Visualization to: core-metrics-results/faith_pd_group_significance.qzv\u001b[0m\n",
            "\u001b[0m"
          ]
        }
      ]
    },
    {
      "cell_type": "code",
      "source": [
        "! qiime emperor plot \\\n",
        "    --i-pcoa core-metrics-results/bray_curtis_pcoa_results.qza \\\n",
        "    --m-metadata-file data/sample_metadata.tsv \\\n",
        "    --o-visualization core-metrics-results/bray_curtis_pcoa.qzv"
      ],
      "metadata": {
        "id": "yZ5jveLatyEY",
        "outputId": "344a7798-b512-4bbf-9d02-85b29b3777b5",
        "colab": {
          "base_uri": "https://localhost:8080/"
        }
      },
      "execution_count": 17,
      "outputs": [
        {
          "output_type": "stream",
          "name": "stdout",
          "text": [
            "\u001b[32mSaved Visualization to: core-metrics-results/bray_curtis_pcoa.qzv\u001b[0m\n",
            "\u001b[0m"
          ]
        }
      ]
    },
    {
      "cell_type": "markdown",
      "source": [
        "Download the PCoAa and have a look at the clustering of samples. Do you identify anything unusual?"
      ],
      "metadata": {
        "id": "VMxP9pk4v22c"
      }
    },
    {
      "cell_type": "markdown",
      "source": [
        "# Part 5: Classify sequences by taxonomy\n",
        "\n",
        "There are several ways to classify your sequences into bacterial species. One of them is to use consensus assignment based on e.g. BLAST search of a sequence against a database of known sequences. Another one is using a machine learning classifier trained on a reference database to recognize corresponding bacterial species. We will use a pretrained classifier to identify bacterial species present in our samples.\n",
        "\n",
        "We can use the `classify-sklearn` action from the feature-classifier plugin to do that. This step will require the `FeatureData[Sequence]` artifact (containing our ASVs) that we generated previously and a pre-trained taxonomic classifier. The classifier is based on SILVA database. There are many different databases you can use. The most often used ones are [SILVA](https://www.arb-silva.de/) and [Greengenes](https://greengenes.secondgenome.com/)"
      ],
      "metadata": {
        "id": "lLPqnXmPt3IG"
      }
    },
    {
      "cell_type": "code",
      "source": [
        "! wget https://data.qiime2.org/2023.9/common/gg-13-8-99-515-806-nb-weighted-classifier.qza"
      ],
      "metadata": {
        "id": "WxHl5cqFukEb",
        "outputId": "430f9169-297a-4907-d68b-24f37c4843e3",
        "colab": {
          "base_uri": "https://localhost:8080/"
        }
      },
      "execution_count": 18,
      "outputs": [
        {
          "output_type": "stream",
          "name": "stdout",
          "text": [
            "--2024-12-03 10:50:39--  https://data.qiime2.org/2023.9/common/gg-13-8-99-515-806-nb-weighted-classifier.qza\n",
            "Resolving data.qiime2.org (data.qiime2.org)... 54.200.1.12\n",
            "Connecting to data.qiime2.org (data.qiime2.org)|54.200.1.12|:443... connected.\n",
            "HTTP request sent, awaiting response... 302 FOUND\n",
            "Location: https://s3-us-west-2.amazonaws.com/qiime2-data/2023.9/common/gg-13-8-99-515-806-nb-weighted-classifier.qza [following]\n",
            "--2024-12-03 10:50:40--  https://s3-us-west-2.amazonaws.com/qiime2-data/2023.9/common/gg-13-8-99-515-806-nb-weighted-classifier.qza\n",
            "Resolving s3-us-west-2.amazonaws.com (s3-us-west-2.amazonaws.com)... 52.218.153.48, 52.92.148.112, 52.92.234.72, ...\n",
            "Connecting to s3-us-west-2.amazonaws.com (s3-us-west-2.amazonaws.com)|52.218.153.48|:443... connected.\n",
            "HTTP request sent, awaiting response... 200 OK\n",
            "Length: 28738550 (27M) [binary/octet-stream]\n",
            "Saving to: ‘gg-13-8-99-515-806-nb-weighted-classifier.qza’\n",
            "\n",
            "gg-13-8-99-515-806- 100%[===================>]  27.41M  41.6MB/s    in 0.7s    \n",
            "\n",
            "2024-12-03 10:50:40 (41.6 MB/s) - ‘gg-13-8-99-515-806-nb-weighted-classifier.qza’ saved [28738550/28738550]\n",
            "\n"
          ]
        }
      ]
    },
    {
      "cell_type": "code",
      "source": [
        "! qiime feature-classifier classify-sklearn \\\n",
        "    --i-reads dada2_rep_set.qza \\\n",
        "    --i-classifier gg-13-8-99-515-806-nb-weighted-classifier.qza \\\n",
        "    --p-n-jobs 2 \\\n",
        "    --output-dir taxonomy"
      ],
      "metadata": {
        "id": "5pjFZVJ_unVF",
        "outputId": "2e5b0d76-6191-483e-8bcf-0fac301c8132",
        "colab": {
          "base_uri": "https://localhost:8080/"
        }
      },
      "execution_count": 19,
      "outputs": [
        {
          "output_type": "stream",
          "name": "stdout",
          "text": [
            "\u001b[32mSaved FeatureData[Taxonomy] to: taxonomy/classification.qza\u001b[0m\n",
            "\u001b[0m"
          ]
        }
      ]
    },
    {
      "cell_type": "code",
      "source": [
        "! qiime metadata tabulate \\\n",
        "    --m-input-file taxonomy/classification.qza \\\n",
        "    --o-visualization taxonomy/classification.qzv"
      ],
      "metadata": {
        "id": "GqcX70G0uorF",
        "outputId": "5f41202f-6786-4ed1-e262-ce71d6d523a3",
        "colab": {
          "base_uri": "https://localhost:8080/"
        }
      },
      "execution_count": 20,
      "outputs": [
        {
          "output_type": "stream",
          "name": "stdout",
          "text": [
            "\u001b[32mSaved Visualization to: taxonomy/classification.qzv\u001b[0m\n",
            "\u001b[0m"
          ]
        }
      ]
    },
    {
      "cell_type": "code",
      "source": [
        "! qiime taxa barplot \\\n",
        "    --i-table table.qza \\\n",
        "    --i-taxonomy taxonomy/classification.qza \\\n",
        "    --m-metadata-file data/sample_metadata.tsv \\\n",
        "    --o-visualization taxonomy/taxa_barplot.qzv"
      ],
      "metadata": {
        "id": "vqO1yKgmurdj",
        "outputId": "a6105939-d164-44dd-8b02-871a09ebe5a6",
        "colab": {
          "base_uri": "https://localhost:8080/"
        }
      },
      "execution_count": 21,
      "outputs": [
        {
          "output_type": "stream",
          "name": "stdout",
          "text": [
            "\u001b[32mSaved Visualization to: taxonomy/taxa_barplot.qzv\u001b[0m\n",
            "\u001b[0m"
          ]
        }
      ]
    },
    {
      "cell_type": "markdown",
      "source": [
        "Download the taxa_barplot visualisation. Which genus do you identify as differentially abundant between gut and the two hands?"
      ],
      "metadata": {
        "id": "wsf6sKVkviPS"
      }
    },
    {
      "cell_type": "markdown",
      "source": [
        "## Optional section: Understand differentially abundant features\n",
        "\n",
        "This section may be omitted for time, but provides an interesting mechanistic view of microbiome interactions.\n",
        "\n",
        "Differential abundance in QIIME2 can be measured with various different metrics. One of them is ANCOMBC2: https://www.nature.com/articles/s41592-023-02092-7"
      ],
      "metadata": {
        "id": "fzDVbqN6u1u7"
      }
    },
    {
      "cell_type": "code",
      "source": [
        "! mkdir diff_abund\n",
        "\n",
        "! qiime taxa collapse \\\n",
        "    --i-table table.qza \\\n",
        "    --i-taxonomy taxonomy/classification.qza \\\n",
        "    --p-level 6 \\\n",
        "    --o-collapsed-table diff_abund/table_l6.qza"
      ],
      "metadata": {
        "id": "HO9zrVJtutfQ",
        "outputId": "f64b688a-0354-4424-d2e1-c4fdf3860742",
        "colab": {
          "base_uri": "https://localhost:8080/"
        }
      },
      "execution_count": 22,
      "outputs": [
        {
          "output_type": "stream",
          "name": "stdout",
          "text": [
            "\u001b[32mSaved FeatureTable[Frequency] to: diff_abund/table_l6.qza\u001b[0m\n",
            "\u001b[0m"
          ]
        }
      ]
    },
    {
      "cell_type": "code",
      "source": [
        "! qiime composition add-pseudocount \\\n",
        "    --i-table diff_abund/table_l6.qza \\\n",
        "    --o-composition-table diff_abund/comp_table_l6.qza"
      ],
      "metadata": {
        "id": "Ji_tYZZrvNg0",
        "outputId": "1b20f421-c26c-4a92-c557-6f4332a0c8bb",
        "colab": {
          "base_uri": "https://localhost:8080/"
        }
      },
      "execution_count": 23,
      "outputs": [
        {
          "output_type": "stream",
          "name": "stdout",
          "text": [
            "\u001b[32mSaved FeatureTable[Composition] to: diff_abund/comp_table_l6.qza\u001b[0m\n",
            "\u001b[0m"
          ]
        }
      ]
    },
    {
      "cell_type": "code",
      "source": [
        "! qiime feature-table filter-samples \\\n",
        "    --i-table diff_abund/comp_table_l6.qza \\\n",
        "    --m-metadata-file data/sample_metadata.tsv \\\n",
        "    --p-where \"[body-site]='gut'\" \\\n",
        "    --o-filtered-table diff_abund/comp_gut_table_l6.qza"
      ],
      "metadata": {
        "id": "xcpke9I1vPA-",
        "outputId": "3411e58a-a762-4b3e-fcb1-5bc2bf4dec5c",
        "colab": {
          "base_uri": "https://localhost:8080/"
        }
      },
      "execution_count": 24,
      "outputs": [
        {
          "output_type": "stream",
          "name": "stdout",
          "text": [
            "\u001b[32mSaved FeatureTable[Composition] to: diff_abund/comp_gut_table_l6.qza\u001b[0m\n",
            "\u001b[0m"
          ]
        }
      ]
    },
    {
      "cell_type": "code",
      "source": [
        "! qiime composition ancom \\\n",
        "    --i-table diff_abund/comp_gut_table_l6.qza \\\n",
        "    --m-metadata-file data/sample_metadata.tsv \\\n",
        "    --m-metadata-column subject \\\n",
        "    --o-visualization diff_abund/ancom_gut_subject_l6.qzv"
      ],
      "metadata": {
        "id": "5sdZZwfivQYG",
        "outputId": "5f54dff9-5d4e-4d1e-d2fc-2058a08d2321",
        "colab": {
          "base_uri": "https://localhost:8080/"
        }
      },
      "execution_count": 25,
      "outputs": [
        {
          "output_type": "stream",
          "name": "stdout",
          "text": [
            "\u001b[32mSaved Visualization to: diff_abund/ancom_gut_subject_l6.qzv\u001b[0m\n",
            "\u001b[0m"
          ]
        }
      ]
    },
    {
      "cell_type": "markdown",
      "source": [
        "Download the visualisation (ancom_gut_subject_l6.qzv). How many features are differentially abundant?"
      ],
      "metadata": {
        "id": "KQbJx2ZJvYq-"
      }
    }
  ]
}
