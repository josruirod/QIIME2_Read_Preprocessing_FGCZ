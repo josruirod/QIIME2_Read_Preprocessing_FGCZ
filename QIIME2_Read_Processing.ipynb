{
  "nbformat": 4,
  "nbformat_minor": 0,
  "metadata": {
    "colab": {
      "provenance": []
    },
    "kernelspec": {
      "name": "python3",
      "display_name": "Python 3"
    },
    "language_info": {
      "name": "python"
    }
  },
  "cells": [
    {
      "cell_type": "markdown",
      "source": [
        "# QIIME 2 Tutorial: Read Processing\n",
        "\n",
        "This notebook contains materials adapted from a google colab notebook created by the QIIME2 team: https://colab.research.google.com/github/bokulich-lab/uzh-microbiome-tutorial/blob/main/01_read_processing.ipynb; all source code is licensed under the Apache License 2.0.\n",
        "\n",
        "Save your own local copy of this notebook by using `File > Save a copy in Drive`. At some point you may be prompted to trust the notebook. Trust me, it is safe 🤞\n",
        "\n",
        "**Disclaimer:**\n",
        "\n",
        "The Google Colab notebook environment will interpret any command as Python code by default. If we want to run bash commands we will have to prefix them by `!`. So any command you see with a leading `!` is a bash command and if you wanted to run it in your terminal you would omit the leading `!`. For example, if in the Colab notebook you ran `!wget` you would just run `wget` in your terminal.\n",
        "\n",
        "In this notebook we use the `!` prefix because we run all QIIME 2 commands using the [`q2cli`](https://github.com/qiime2/q2cli/) (QIIME 2 command-line interface). However, QIIME 2 also has a python API and a Galaxy interface. You can learn more about these and other QIIME 2 interfaces at https://qiime2.org/.\n",
        "\n",
        "You can run the entire notebook by selecting `Runtime > Run all` from the menu in Google Colab. Some steps are time-comsuming and the entire notebook may take up to 30-60 minutes, so run the entire notebook now and we will inspect the commands and results as we work through as a class."
      ],
      "metadata": {
        "id": "H67cTPid42PX"
      }
    },
    {
      "cell_type": "markdown",
      "source": [
        "## Part 1: Setup\n",
        "\n",
        "Lets start with the setup. We will import materials from a github repository and go into the materials folder. We will the run a script created by the qiime2 team to install qiime2 and all the plugins. Afterwards we will import the necessary python libraries."
      ],
      "metadata": {
        "id": "m9QrYDLzBcSX"
      }
    },
    {
      "cell_type": "code",
      "execution_count": 1,
      "metadata": {
        "id": "yUqWuhRL4uwQ",
        "outputId": "e12e36f6-0b07-4668-cc32-3c3b6f084729",
        "colab": {
          "base_uri": "https://localhost:8080/"
        }
      },
      "outputs": [
        {
          "output_type": "stream",
          "name": "stdout",
          "text": [
            "Cloning into 'materials'...\n",
            "remote: Enumerating objects: 68, done.\u001b[K\n",
            "remote: Counting objects: 100% (68/68), done.\u001b[K\n",
            "remote: Compressing objects: 100% (62/62), done.\u001b[K\n",
            "remote: Total 68 (delta 12), reused 49 (delta 4), pack-reused 0\u001b[K\n",
            "Receiving objects: 100% (68/68), 19.65 MiB | 35.55 MiB/s, done.\n",
            "Resolving deltas: 100% (12/12), done.\n"
          ]
        }
      ],
      "source": [
        "! git clone https://github.com/zajacn/QIIME2_Read_Preprocessing_FGCZ.git materials\n",
        "! mkdir /content/prefetch_cache"
      ]
    },
    {
      "cell_type": "code",
      "source": [
        "%cd materials"
      ],
      "metadata": {
        "id": "cVY9PniMBF_Q",
        "outputId": "576a13ba-dad6-4d45-e51c-34a0fcd43ca7",
        "colab": {
          "base_uri": "https://localhost:8080/"
        }
      },
      "execution_count": 2,
      "outputs": [
        {
          "output_type": "stream",
          "name": "stdout",
          "text": [
            "/content/materials\n"
          ]
        }
      ]
    },
    {
      "cell_type": "markdown",
      "source": [
        "Now we are ready to set up our environment. This will take about 10 minutes.\n",
        "**Note:** This setup is only relevant for Google Colaboratory and will not work on your local machine. Please follow the [official installation instructions](https://docs.qiime2.org/2023.9/install/) for that. This setup is taken from the setup prepared by bokulich lab."
      ],
      "metadata": {
        "id": "2TxwhxvsyK_g"
      }
    },
    {
      "cell_type": "code",
      "source": [
        "%run setup_qiime2"
      ],
      "metadata": {
        "id": "cmGD9E20BHzO",
        "outputId": "2d6b8000-a3d6-423b-ddb8-bb43d68f4afa",
        "colab": {
          "base_uri": "https://localhost:8080/",
          "height": 348
        }
      },
      "execution_count": 3,
      "outputs": [
        {
          "output_type": "display_data",
          "data": {
            "text/plain": [
              "\u001b[2;36m[21:06:58]\u001b[0m\u001b[2;36m \u001b[0m🐍 Downloading miniconda\u001b[33m...\u001b[0m                                                           \u001b]8;id=969630;file:///content/materials/setup_qiime2.py\u001b\\\u001b[2msetup_qiime2.py\u001b[0m\u001b]8;;\u001b\\\u001b[2m:\u001b[0m\u001b]8;id=348937;file:///content/materials/setup_qiime2.py#39\u001b\\\u001b[2m39\u001b[0m\u001b]8;;\u001b\\\n"
            ],
            "text/html": [
              "<pre style=\"white-space:pre;overflow-x:auto;line-height:normal;font-family:Menlo,'DejaVu Sans Mono',consolas,'Courier New',monospace\"><span style=\"color: #7fbfbf; text-decoration-color: #7fbfbf\">[21:06:58] </span>🐍 Downloading miniconda<span style=\"color: #808000; text-decoration-color: #808000\">...</span>                                                           <a href=\"file:///content/materials/setup_qiime2.py\" target=\"_blank\"><span style=\"color: #7f7f7f; text-decoration-color: #7f7f7f\">setup_qiime2.py</span></a><span style=\"color: #7f7f7f; text-decoration-color: #7f7f7f\">:</span><a href=\"file:///content/materials/setup_qiime2.py#39\" target=\"_blank\"><span style=\"color: #7f7f7f; text-decoration-color: #7f7f7f\">39</span></a>\n",
              "</pre>\n"
            ]
          },
          "metadata": {}
        },
        {
          "output_type": "display_data",
          "data": {
            "text/plain": [
              "\u001b[2;36m[21:06:59]\u001b[0m\u001b[2;36m \u001b[0m\u001b[34m🐍 Done.\u001b[0m                                                                              \u001b]8;id=30194;file:///content/materials/setup_qiime2.py\u001b\\\u001b[2msetup_qiime2.py\u001b[0m\u001b]8;;\u001b\\\u001b[2m:\u001b[0m\u001b]8;id=212952;file:///content/materials/setup_qiime2.py#48\u001b\\\u001b[2m48\u001b[0m\u001b]8;;\u001b\\\n"
            ],
            "text/html": [
              "<pre style=\"white-space:pre;overflow-x:auto;line-height:normal;font-family:Menlo,'DejaVu Sans Mono',consolas,'Courier New',monospace\"><span style=\"color: #7fbfbf; text-decoration-color: #7fbfbf\">[21:06:59] </span><span style=\"color: #000080; text-decoration-color: #000080\">🐍 Done.</span>                                                                              <a href=\"file:///content/materials/setup_qiime2.py\" target=\"_blank\"><span style=\"color: #7f7f7f; text-decoration-color: #7f7f7f\">setup_qiime2.py</span></a><span style=\"color: #7f7f7f; text-decoration-color: #7f7f7f\">:</span><a href=\"file:///content/materials/setup_qiime2.py#48\" target=\"_blank\"><span style=\"color: #7f7f7f; text-decoration-color: #7f7f7f\">48</span></a>\n",
              "</pre>\n"
            ]
          },
          "metadata": {}
        },
        {
          "output_type": "display_data",
          "data": {
            "text/plain": [
              "\u001b[2;36m          \u001b[0m\u001b[2;36m \u001b[0m🐍 Installing miniconda\u001b[33m...\u001b[0m                                                            \u001b]8;id=301582;file:///content/materials/setup_qiime2.py\u001b\\\u001b[2msetup_qiime2.py\u001b[0m\u001b]8;;\u001b\\\u001b[2m:\u001b[0m\u001b]8;id=842149;file:///content/materials/setup_qiime2.py#39\u001b\\\u001b[2m39\u001b[0m\u001b]8;;\u001b\\\n"
            ],
            "text/html": [
              "<pre style=\"white-space:pre;overflow-x:auto;line-height:normal;font-family:Menlo,'DejaVu Sans Mono',consolas,'Courier New',monospace\"><span style=\"color: #7fbfbf; text-decoration-color: #7fbfbf\">           </span>🐍 Installing miniconda<span style=\"color: #808000; text-decoration-color: #808000\">...</span>                                                            <a href=\"file:///content/materials/setup_qiime2.py\" target=\"_blank\"><span style=\"color: #7f7f7f; text-decoration-color: #7f7f7f\">setup_qiime2.py</span></a><span style=\"color: #7f7f7f; text-decoration-color: #7f7f7f\">:</span><a href=\"file:///content/materials/setup_qiime2.py#39\" target=\"_blank\"><span style=\"color: #7f7f7f; text-decoration-color: #7f7f7f\">39</span></a>\n",
              "</pre>\n"
            ]
          },
          "metadata": {}
        },
        {
          "output_type": "display_data",
          "data": {
            "text/plain": [
              "\u001b[2;36m[21:07:19]\u001b[0m\u001b[2;36m \u001b[0m\u001b[34m🐍 Installed miniconda to `\u001b[0m\u001b[34m/usr/\u001b[0m\u001b[34mlocal\u001b[0m\u001b[34m` 🐍\u001b[0m                                             \u001b]8;id=261038;file:///content/materials/setup_qiime2.py\u001b\\\u001b[2msetup_qiime2.py\u001b[0m\u001b]8;;\u001b\\\u001b[2m:\u001b[0m\u001b]8;id=918713;file:///content/materials/setup_qiime2.py#48\u001b\\\u001b[2m48\u001b[0m\u001b]8;;\u001b\\\n"
            ],
            "text/html": [
              "<pre style=\"white-space:pre;overflow-x:auto;line-height:normal;font-family:Menlo,'DejaVu Sans Mono',consolas,'Courier New',monospace\"><span style=\"color: #7fbfbf; text-decoration-color: #7fbfbf\">[21:07:19] </span><span style=\"color: #000080; text-decoration-color: #000080\">🐍 Installed miniconda to `/usr/local` 🐍</span>                                             <a href=\"file:///content/materials/setup_qiime2.py\" target=\"_blank\"><span style=\"color: #7f7f7f; text-decoration-color: #7f7f7f\">setup_qiime2.py</span></a><span style=\"color: #7f7f7f; text-decoration-color: #7f7f7f\">:</span><a href=\"file:///content/materials/setup_qiime2.py#48\" target=\"_blank\"><span style=\"color: #7f7f7f; text-decoration-color: #7f7f7f\">48</span></a>\n",
              "</pre>\n"
            ]
          },
          "metadata": {}
        },
        {
          "output_type": "display_data",
          "data": {
            "text/plain": [
              "\u001b[2;36m          \u001b[0m\u001b[2;36m \u001b[0m🔍 Installing mamba\u001b[33m...\u001b[0m                                                                \u001b]8;id=966668;file:///content/materials/setup_qiime2.py\u001b\\\u001b[2msetup_qiime2.py\u001b[0m\u001b]8;;\u001b\\\u001b[2m:\u001b[0m\u001b]8;id=789038;file:///content/materials/setup_qiime2.py#39\u001b\\\u001b[2m39\u001b[0m\u001b]8;;\u001b\\\n"
            ],
            "text/html": [
              "<pre style=\"white-space:pre;overflow-x:auto;line-height:normal;font-family:Menlo,'DejaVu Sans Mono',consolas,'Courier New',monospace\"><span style=\"color: #7fbfbf; text-decoration-color: #7fbfbf\">           </span>🔍 Installing mamba<span style=\"color: #808000; text-decoration-color: #808000\">...</span>                                                                <a href=\"file:///content/materials/setup_qiime2.py\" target=\"_blank\"><span style=\"color: #7f7f7f; text-decoration-color: #7f7f7f\">setup_qiime2.py</span></a><span style=\"color: #7f7f7f; text-decoration-color: #7f7f7f\">:</span><a href=\"file:///content/materials/setup_qiime2.py#39\" target=\"_blank\"><span style=\"color: #7f7f7f; text-decoration-color: #7f7f7f\">39</span></a>\n",
              "</pre>\n"
            ]
          },
          "metadata": {}
        },
        {
          "output_type": "display_data",
          "data": {
            "text/plain": [
              "\u001b[2;36m[21:09:32]\u001b[0m\u001b[2;36m \u001b[0m\u001b[34m🔍 Done.\u001b[0m                                                                              \u001b]8;id=854823;file:///content/materials/setup_qiime2.py\u001b\\\u001b[2msetup_qiime2.py\u001b[0m\u001b]8;;\u001b\\\u001b[2m:\u001b[0m\u001b]8;id=797551;file:///content/materials/setup_qiime2.py#48\u001b\\\u001b[2m48\u001b[0m\u001b]8;;\u001b\\\n"
            ],
            "text/html": [
              "<pre style=\"white-space:pre;overflow-x:auto;line-height:normal;font-family:Menlo,'DejaVu Sans Mono',consolas,'Courier New',monospace\"><span style=\"color: #7fbfbf; text-decoration-color: #7fbfbf\">[21:09:32] </span><span style=\"color: #000080; text-decoration-color: #000080\">🔍 Done.</span>                                                                              <a href=\"file:///content/materials/setup_qiime2.py\" target=\"_blank\"><span style=\"color: #7f7f7f; text-decoration-color: #7f7f7f\">setup_qiime2.py</span></a><span style=\"color: #7f7f7f; text-decoration-color: #7f7f7f\">:</span><a href=\"file:///content/materials/setup_qiime2.py#48\" target=\"_blank\"><span style=\"color: #7f7f7f; text-decoration-color: #7f7f7f\">48</span></a>\n",
              "</pre>\n"
            ]
          },
          "metadata": {}
        },
        {
          "output_type": "display_data",
          "data": {
            "text/plain": [
              "\u001b[2;36m          \u001b[0m\u001b[2;36m \u001b[0m🔍 Installing QIIME \u001b[1;36m2\u001b[0m. This may take a little bit.                                    \u001b]8;id=936963;file:///content/materials/setup_qiime2.py\u001b\\\u001b[2msetup_qiime2.py\u001b[0m\u001b]8;;\u001b\\\u001b[2m:\u001b[0m\u001b]8;id=968142;file:///content/materials/setup_qiime2.py#39\u001b\\\u001b[2m39\u001b[0m\u001b]8;;\u001b\\\n",
              "\u001b[2;36m           \u001b[0m 🕐                                                                                   \u001b[2m                  \u001b[0m\n"
            ],
            "text/html": [
              "<pre style=\"white-space:pre;overflow-x:auto;line-height:normal;font-family:Menlo,'DejaVu Sans Mono',consolas,'Courier New',monospace\"><span style=\"color: #7fbfbf; text-decoration-color: #7fbfbf\">           </span>🔍 Installing QIIME <span style=\"color: #008080; text-decoration-color: #008080; font-weight: bold\">2</span>. This may take a little bit.                                    <a href=\"file:///content/materials/setup_qiime2.py\" target=\"_blank\"><span style=\"color: #7f7f7f; text-decoration-color: #7f7f7f\">setup_qiime2.py</span></a><span style=\"color: #7f7f7f; text-decoration-color: #7f7f7f\">:</span><a href=\"file:///content/materials/setup_qiime2.py#39\" target=\"_blank\"><span style=\"color: #7f7f7f; text-decoration-color: #7f7f7f\">39</span></a>\n",
              "<span style=\"color: #7fbfbf; text-decoration-color: #7fbfbf\">           </span> 🕐                                                                                   <span style=\"color: #7f7f7f; text-decoration-color: #7f7f7f\">                  </span>\n",
              "</pre>\n"
            ]
          },
          "metadata": {}
        },
        {
          "output_type": "display_data",
          "data": {
            "text/plain": [
              "\u001b[2;36m[21:14:01]\u001b[0m\u001b[2;36m \u001b[0m\u001b[34m🔍 Done.\u001b[0m                                                                              \u001b]8;id=333118;file:///content/materials/setup_qiime2.py\u001b\\\u001b[2msetup_qiime2.py\u001b[0m\u001b]8;;\u001b\\\u001b[2m:\u001b[0m\u001b]8;id=691271;file:///content/materials/setup_qiime2.py#48\u001b\\\u001b[2m48\u001b[0m\u001b]8;;\u001b\\\n"
            ],
            "text/html": [
              "<pre style=\"white-space:pre;overflow-x:auto;line-height:normal;font-family:Menlo,'DejaVu Sans Mono',consolas,'Courier New',monospace\"><span style=\"color: #7fbfbf; text-decoration-color: #7fbfbf\">[21:14:01] </span><span style=\"color: #000080; text-decoration-color: #000080\">🔍 Done.</span>                                                                              <a href=\"file:///content/materials/setup_qiime2.py\" target=\"_blank\"><span style=\"color: #7f7f7f; text-decoration-color: #7f7f7f\">setup_qiime2.py</span></a><span style=\"color: #7f7f7f; text-decoration-color: #7f7f7f\">:</span><a href=\"file:///content/materials/setup_qiime2.py#48\" target=\"_blank\"><span style=\"color: #7f7f7f; text-decoration-color: #7f7f7f\">48</span></a>\n",
              "</pre>\n"
            ]
          },
          "metadata": {}
        },
        {
          "output_type": "display_data",
          "data": {
            "text/plain": [
              "\u001b[2;36m          \u001b[0m\u001b[2;36m \u001b[0m🔍 Installing redbiom. This may take a little bit.                                    \u001b]8;id=302492;file:///content/materials/setup_qiime2.py\u001b\\\u001b[2msetup_qiime2.py\u001b[0m\u001b]8;;\u001b\\\u001b[2m:\u001b[0m\u001b]8;id=709851;file:///content/materials/setup_qiime2.py#39\u001b\\\u001b[2m39\u001b[0m\u001b]8;;\u001b\\\n",
              "\u001b[2;36m           \u001b[0m 🕐                                                                                   \u001b[2m                  \u001b[0m\n"
            ],
            "text/html": [
              "<pre style=\"white-space:pre;overflow-x:auto;line-height:normal;font-family:Menlo,'DejaVu Sans Mono',consolas,'Courier New',monospace\"><span style=\"color: #7fbfbf; text-decoration-color: #7fbfbf\">           </span>🔍 Installing redbiom. This may take a little bit.                                    <a href=\"file:///content/materials/setup_qiime2.py\" target=\"_blank\"><span style=\"color: #7f7f7f; text-decoration-color: #7f7f7f\">setup_qiime2.py</span></a><span style=\"color: #7f7f7f; text-decoration-color: #7f7f7f\">:</span><a href=\"file:///content/materials/setup_qiime2.py#39\" target=\"_blank\"><span style=\"color: #7f7f7f; text-decoration-color: #7f7f7f\">39</span></a>\n",
              "<span style=\"color: #7fbfbf; text-decoration-color: #7fbfbf\">           </span> 🕐                                                                                   <span style=\"color: #7f7f7f; text-decoration-color: #7f7f7f\">                  </span>\n",
              "</pre>\n"
            ]
          },
          "metadata": {}
        },
        {
          "output_type": "display_data",
          "data": {
            "text/plain": [
              "\u001b[2;36m[21:14:12]\u001b[0m\u001b[2;36m \u001b[0m\u001b[34m🔍 Done.\u001b[0m                                                                              \u001b]8;id=500493;file:///content/materials/setup_qiime2.py\u001b\\\u001b[2msetup_qiime2.py\u001b[0m\u001b]8;;\u001b\\\u001b[2m:\u001b[0m\u001b]8;id=526658;file:///content/materials/setup_qiime2.py#48\u001b\\\u001b[2m48\u001b[0m\u001b]8;;\u001b\\\n"
            ],
            "text/html": [
              "<pre style=\"white-space:pre;overflow-x:auto;line-height:normal;font-family:Menlo,'DejaVu Sans Mono',consolas,'Courier New',monospace\"><span style=\"color: #7fbfbf; text-decoration-color: #7fbfbf\">[21:14:12] </span><span style=\"color: #000080; text-decoration-color: #000080\">🔍 Done.</span>                                                                              <a href=\"file:///content/materials/setup_qiime2.py\" target=\"_blank\"><span style=\"color: #7f7f7f; text-decoration-color: #7f7f7f\">setup_qiime2.py</span></a><span style=\"color: #7f7f7f; text-decoration-color: #7f7f7f\">:</span><a href=\"file:///content/materials/setup_qiime2.py#48\" target=\"_blank\"><span style=\"color: #7f7f7f; text-decoration-color: #7f7f7f\">48</span></a>\n",
              "</pre>\n"
            ]
          },
          "metadata": {}
        },
        {
          "output_type": "display_data",
          "data": {
            "text/plain": [
              "\u001b[2;36m          \u001b[0m\u001b[2;36m \u001b[0m🌲 Installing Empress\u001b[33m...\u001b[0m                                                              \u001b]8;id=245975;file:///content/materials/setup_qiime2.py\u001b\\\u001b[2msetup_qiime2.py\u001b[0m\u001b]8;;\u001b\\\u001b[2m:\u001b[0m\u001b]8;id=518403;file:///content/materials/setup_qiime2.py#39\u001b\\\u001b[2m39\u001b[0m\u001b]8;;\u001b\\\n"
            ],
            "text/html": [
              "<pre style=\"white-space:pre;overflow-x:auto;line-height:normal;font-family:Menlo,'DejaVu Sans Mono',consolas,'Courier New',monospace\"><span style=\"color: #7fbfbf; text-decoration-color: #7fbfbf\">           </span>🌲 Installing Empress<span style=\"color: #808000; text-decoration-color: #808000\">...</span>                                                              <a href=\"file:///content/materials/setup_qiime2.py\" target=\"_blank\"><span style=\"color: #7f7f7f; text-decoration-color: #7f7f7f\">setup_qiime2.py</span></a><span style=\"color: #7f7f7f; text-decoration-color: #7f7f7f\">:</span><a href=\"file:///content/materials/setup_qiime2.py#39\" target=\"_blank\"><span style=\"color: #7f7f7f; text-decoration-color: #7f7f7f\">39</span></a>\n",
              "</pre>\n"
            ]
          },
          "metadata": {}
        },
        {
          "output_type": "display_data",
          "data": {
            "text/plain": [
              "\u001b[2;36m[21:14:16]\u001b[0m\u001b[2;36m \u001b[0m\u001b[34m🌲 Done.\u001b[0m                                                                              \u001b]8;id=753168;file:///content/materials/setup_qiime2.py\u001b\\\u001b[2msetup_qiime2.py\u001b[0m\u001b]8;;\u001b\\\u001b[2m:\u001b[0m\u001b]8;id=275614;file:///content/materials/setup_qiime2.py#48\u001b\\\u001b[2m48\u001b[0m\u001b]8;;\u001b\\\n"
            ],
            "text/html": [
              "<pre style=\"white-space:pre;overflow-x:auto;line-height:normal;font-family:Menlo,'DejaVu Sans Mono',consolas,'Courier New',monospace\"><span style=\"color: #7fbfbf; text-decoration-color: #7fbfbf\">[21:14:16] </span><span style=\"color: #000080; text-decoration-color: #000080\">🌲 Done.</span>                                                                              <a href=\"file:///content/materials/setup_qiime2.py\" target=\"_blank\"><span style=\"color: #7f7f7f; text-decoration-color: #7f7f7f\">setup_qiime2.py</span></a><span style=\"color: #7f7f7f; text-decoration-color: #7f7f7f\">:</span><a href=\"file:///content/materials/setup_qiime2.py#48\" target=\"_blank\"><span style=\"color: #7f7f7f; text-decoration-color: #7f7f7f\">48</span></a>\n",
              "</pre>\n"
            ]
          },
          "metadata": {}
        },
        {
          "output_type": "display_data",
          "data": {
            "text/plain": [
              "\u001b[2;36m          \u001b[0m\u001b[2;36m \u001b[0m📊 Checking that QIIME \u001b[1;36m2\u001b[0m command line works\u001b[33m...\u001b[0m                                        \u001b]8;id=466260;file:///content/materials/setup_qiime2.py\u001b\\\u001b[2msetup_qiime2.py\u001b[0m\u001b]8;;\u001b\\\u001b[2m:\u001b[0m\u001b]8;id=373203;file:///content/materials/setup_qiime2.py#39\u001b\\\u001b[2m39\u001b[0m\u001b]8;;\u001b\\\n"
            ],
            "text/html": [
              "<pre style=\"white-space:pre;overflow-x:auto;line-height:normal;font-family:Menlo,'DejaVu Sans Mono',consolas,'Courier New',monospace\"><span style=\"color: #7fbfbf; text-decoration-color: #7fbfbf\">           </span>📊 Checking that QIIME <span style=\"color: #008080; text-decoration-color: #008080; font-weight: bold\">2</span> command line works<span style=\"color: #808000; text-decoration-color: #808000\">...</span>                                        <a href=\"file:///content/materials/setup_qiime2.py\" target=\"_blank\"><span style=\"color: #7f7f7f; text-decoration-color: #7f7f7f\">setup_qiime2.py</span></a><span style=\"color: #7f7f7f; text-decoration-color: #7f7f7f\">:</span><a href=\"file:///content/materials/setup_qiime2.py#39\" target=\"_blank\"><span style=\"color: #7f7f7f; text-decoration-color: #7f7f7f\">39</span></a>\n",
              "</pre>\n"
            ]
          },
          "metadata": {}
        },
        {
          "output_type": "display_data",
          "data": {
            "text/plain": [
              "\u001b[2;36m[21:14:29]\u001b[0m\u001b[2;36m \u001b[0m\u001b[34m📊 QIIME \u001b[0m\u001b[1;34m2\u001b[0m\u001b[34m command line looks good 🎉\u001b[0m                                                 \u001b]8;id=791130;file:///content/materials/setup_qiime2.py\u001b\\\u001b[2msetup_qiime2.py\u001b[0m\u001b]8;;\u001b\\\u001b[2m:\u001b[0m\u001b]8;id=338565;file:///content/materials/setup_qiime2.py#48\u001b\\\u001b[2m48\u001b[0m\u001b]8;;\u001b\\\n"
            ],
            "text/html": [
              "<pre style=\"white-space:pre;overflow-x:auto;line-height:normal;font-family:Menlo,'DejaVu Sans Mono',consolas,'Courier New',monospace\"><span style=\"color: #7fbfbf; text-decoration-color: #7fbfbf\">[21:14:29] </span><span style=\"color: #000080; text-decoration-color: #000080\">📊 QIIME </span><span style=\"color: #000080; text-decoration-color: #000080; font-weight: bold\">2</span><span style=\"color: #000080; text-decoration-color: #000080\"> command line looks good 🎉</span>                                                 <a href=\"file:///content/materials/setup_qiime2.py\" target=\"_blank\"><span style=\"color: #7f7f7f; text-decoration-color: #7f7f7f\">setup_qiime2.py</span></a><span style=\"color: #7f7f7f; text-decoration-color: #7f7f7f\">:</span><a href=\"file:///content/materials/setup_qiime2.py#48\" target=\"_blank\"><span style=\"color: #7f7f7f; text-decoration-color: #7f7f7f\">48</span></a>\n",
              "</pre>\n"
            ]
          },
          "metadata": {}
        },
        {
          "output_type": "display_data",
          "data": {
            "text/plain": [
              "\u001b[2;36m          \u001b[0m\u001b[2;36m \u001b[0mCleaned up unneeded files.                                                            \u001b]8;id=93819;file:///content/materials/setup_qiime2.py\u001b\\\u001b[2msetup_qiime2.py\u001b[0m\u001b]8;;\u001b\\\u001b[2m:\u001b[0m\u001b]8;id=985876;file:///content/materials/setup_qiime2.py#31\u001b\\\u001b[2m31\u001b[0m\u001b]8;;\u001b\\\n"
            ],
            "text/html": [
              "<pre style=\"white-space:pre;overflow-x:auto;line-height:normal;font-family:Menlo,'DejaVu Sans Mono',consolas,'Courier New',monospace\"><span style=\"color: #7fbfbf; text-decoration-color: #7fbfbf\">           </span>Cleaned up unneeded files.                                                            <a href=\"file:///content/materials/setup_qiime2.py\" target=\"_blank\"><span style=\"color: #7f7f7f; text-decoration-color: #7f7f7f\">setup_qiime2.py</span></a><span style=\"color: #7f7f7f; text-decoration-color: #7f7f7f\">:</span><a href=\"file:///content/materials/setup_qiime2.py#31\" target=\"_blank\"><span style=\"color: #7f7f7f; text-decoration-color: #7f7f7f\">31</span></a>\n",
              "</pre>\n"
            ]
          },
          "metadata": {}
        },
        {
          "output_type": "display_data",
          "data": {
            "text/plain": [
              "\u001b[2;36m          \u001b[0m\u001b[2;36m \u001b[0m\u001b[32mEverything is A-OK. You can start using QIIME \u001b[0m\u001b[1;32m2\u001b[0m\u001b[32m now 👍\u001b[0m                               \u001b]8;id=871318;file:///content/materials/setup_qiime2.py\u001b\\\u001b[2msetup_qiime2.py\u001b[0m\u001b]8;;\u001b\\\u001b[2m:\u001b[0m\u001b]8;id=903528;file:///content/materials/setup_qiime2.py#168\u001b\\\u001b[2m168\u001b[0m\u001b]8;;\u001b\\\n"
            ],
            "text/html": [
              "<pre style=\"white-space:pre;overflow-x:auto;line-height:normal;font-family:Menlo,'DejaVu Sans Mono',consolas,'Courier New',monospace\"><span style=\"color: #7fbfbf; text-decoration-color: #7fbfbf\">           </span><span style=\"color: #008000; text-decoration-color: #008000\">Everything is A-OK. You can start using QIIME </span><span style=\"color: #008000; text-decoration-color: #008000; font-weight: bold\">2</span><span style=\"color: #008000; text-decoration-color: #008000\"> now 👍</span>                               <a href=\"file:///content/materials/setup_qiime2.py\" target=\"_blank\"><span style=\"color: #7f7f7f; text-decoration-color: #7f7f7f\">setup_qiime2.py</span></a><span style=\"color: #7f7f7f; text-decoration-color: #7f7f7f\">:</span><a href=\"file:///content/materials/setup_qiime2.py#168\" target=\"_blank\"><span style=\"color: #7f7f7f; text-decoration-color: #7f7f7f\">168</span></a>\n",
              "</pre>\n"
            ]
          },
          "metadata": {}
        }
      ]
    },
    {
      "cell_type": "code",
      "source": [
        "import numpy as np\n",
        "import pandas as pd\n",
        "import seaborn as sns"
      ],
      "metadata": {
        "id": "HY48M_CgBY2-"
      },
      "execution_count": 4,
      "outputs": []
    },
    {
      "cell_type": "markdown",
      "source": [
        "## Part 2: Import the data.\n",
        "\n",
        "First what we need to do is convert the fastq sequenced reads into a single object in a qiime2 format (with a qza extension). In order to do that you need a manifest file (manifest.tsv) which provides qiime2 with the absolute path to all the reads. You also need to specify the type of the data and the input format.\n",
        "\n",
        "Lets check first what are the possible input formats. See the following link for more information: https://docs.qiime2.org/2024.2/tutorials/importing/\n"
      ],
      "metadata": {
        "id": "Ffr0Ek_hCeih"
      }
    },
    {
      "cell_type": "code",
      "source": [
        "!qiime tools import --show-importable-formats"
      ],
      "metadata": {
        "id": "NJwG57tiFcy0",
        "outputId": "bc316ef8-486d-4c98-9b1a-f7bea4bf8909",
        "colab": {
          "base_uri": "https://localhost:8080/"
        }
      },
      "execution_count": 5,
      "outputs": [
        {
          "output_type": "stream",
          "name": "stdout",
          "text": [
            "AlignedDNAFASTAFormat\n",
            "AlignedDNASequencesDirectoryFormat\n",
            "AlignedProteinFASTAFormat\n",
            "AlignedProteinSequencesDirectoryFormat\n",
            "AlignedRNAFASTAFormat\n",
            "AlignedRNASequencesDirectoryFormat\n",
            "AlphaDiversityDirectoryFormat\n",
            "AlphaDiversityFormat\n",
            "ArtificialGroupingDirectoryFormat\n",
            "ArtificialGroupingFormat\n",
            "BIOMV100DirFmt\n",
            "BIOMV100Format\n",
            "BIOMV210DirFmt\n",
            "BIOMV210Format\n",
            "BLAST6DirectoryFormat\n",
            "BLAST6Format\n",
            "BooleanSeriesDirectoryFormat\n",
            "BooleanSeriesFormat\n",
            "Bowtie2IndexDirFmt\n",
            "CasavaOneEightLanelessPerSampleDirFmt\n",
            "CasavaOneEightSingleLanePerSampleDirFmt\n",
            "DADA2StatsDirFmt\n",
            "DADA2StatsFormat\n",
            "DNAFASTAFormat\n",
            "DNASequencesDirectoryFormat\n",
            "DataLoafPackageDirFmt\n",
            "DeblurStatsDirFmt\n",
            "DeblurStatsFmt\n",
            "DifferentialDirectoryFormat\n",
            "DifferentialFormat\n",
            "DistanceMatrixDirectoryFormat\n",
            "EMPPairedEndCasavaDirFmt\n",
            "EMPPairedEndDirFmt\n",
            "EMPSingleEndCasavaDirFmt\n",
            "EMPSingleEndDirFmt\n",
            "ErrorCorrectionDetailsDirFmt\n",
            "FastqGzFormat\n",
            "FirstDifferencesDirectoryFormat\n",
            "FirstDifferencesFormat\n",
            "HeaderlessTSVTaxonomyDirectoryFormat\n",
            "HeaderlessTSVTaxonomyFormat\n",
            "ImportanceDirectoryFormat\n",
            "ImportanceFormat\n",
            "LSMatFormat\n",
            "MixedCaseAlignedDNAFASTAFormat\n",
            "MixedCaseAlignedDNASequencesDirectoryFormat\n",
            "MixedCaseAlignedRNAFASTAFormat\n",
            "MixedCaseAlignedRNASequencesDirectoryFormat\n",
            "MixedCaseDNAFASTAFormat\n",
            "MixedCaseDNASequencesDirectoryFormat\n",
            "MixedCaseRNAFASTAFormat\n",
            "MixedCaseRNASequencesDirectoryFormat\n",
            "MultiplexedFastaQualDirFmt\n",
            "MultiplexedPairedEndBarcodeInSequenceDirFmt\n",
            "MultiplexedSingleEndBarcodeInSequenceDirFmt\n",
            "NewickDirectoryFormat\n",
            "NewickFormat\n",
            "OrdinationDirectoryFormat\n",
            "OrdinationFormat\n",
            "PairedDNASequencesDirectoryFormat\n",
            "PairedEndFastqManifestPhred33\n",
            "PairedEndFastqManifestPhred33V2\n",
            "PairedEndFastqManifestPhred64\n",
            "PairedEndFastqManifestPhred64V2\n",
            "PairedRNASequencesDirectoryFormat\n",
            "PlacementsDirFmt\n",
            "PlacementsFormat\n",
            "PredictionsDirectoryFormat\n",
            "PredictionsFormat\n",
            "ProbabilitiesDirectoryFormat\n",
            "ProbabilitiesFormat\n",
            "ProcrustesStatisticsDirFmt\n",
            "ProcrustesStatisticsFmt\n",
            "ProteinFASTAFormat\n",
            "ProteinSequencesDirectoryFormat\n",
            "QIIME1DemuxDirFmt\n",
            "QIIME1DemuxFormat\n",
            "QualityFilterStatsDirFmt\n",
            "QualityFilterStatsFmt\n",
            "RNAFASTAFormat\n",
            "RNASequencesDirectoryFormat\n",
            "SampleEstimatorDirFmt\n",
            "SampleIdIndexedSingleEndPerSampleDirFmt\n",
            "SeppReferenceDirFmt\n",
            "SingleEndFastqManifestPhred33\n",
            "SingleEndFastqManifestPhred33V2\n",
            "SingleEndFastqManifestPhred64\n",
            "SingleEndFastqManifestPhred64V2\n",
            "SingleLanePerSamplePairedEndFastqDirFmt\n",
            "SingleLanePerSampleSingleEndFastqDirFmt\n",
            "TSVTaxonomyDirectoryFormat\n",
            "TSVTaxonomyFormat\n",
            "TaxonomicClassiferTemporaryPickleDirFmt\n",
            "TrueTargetsDirectoryFormat\n",
            "UchimeStatsDirFmt\n",
            "UchimeStatsFmt\n",
            "\u001b[0m"
          ]
        }
      ]
    },
    {
      "cell_type": "markdown",
      "source": [
        "As you can see you can import any type of data. If you want to start running qiime2 from any type of data you have previously analysed with another tools, you can also do that. Just find the right format to import. Ok lets run the import then."
      ],
      "metadata": {
        "id": "zHUsVU57Fnyr"
      }
    },
    {
      "cell_type": "code",
      "source": [
        "!qiime tools import --type SampleData[SequencesWithQuality] \\\n",
        "                    --input-path data/manifest.tsv \\\n",
        "                    --output-path data/demux_seqs.qza \\\n",
        "                    --input-format SingleEndFastqManifestPhred33V2"
      ],
      "metadata": {
        "id": "1ynNEx4vCZKY",
        "outputId": "72da6bb5-73f5-4c47-e19f-98754fe502c9",
        "colab": {
          "base_uri": "https://localhost:8080/"
        }
      },
      "execution_count": 6,
      "outputs": [
        {
          "output_type": "stream",
          "name": "stdout",
          "text": [
            "\u001b[32mImported data/manifest.tsv as SingleEndFastqManifestPhred33V2 to data/demux_seqs.qza\u001b[0m\n",
            "\u001b[0m"
          ]
        }
      ]
    },
    {
      "cell_type": "code",
      "source": [
        "!qiime demux summarize --i-data data/demux_seqs.qza \\\n",
        "                       --o-visualization demux_seqs.qzv"
      ],
      "metadata": {
        "id": "rHm9hOe9F8wN",
        "outputId": "b529ace7-b2e4-454c-cdf0-342f3eac88ac",
        "colab": {
          "base_uri": "https://localhost:8080/"
        }
      },
      "execution_count": 7,
      "outputs": [
        {
          "output_type": "stream",
          "name": "stdout",
          "text": [
            "\u001b[32mSaved Visualization to: demux_seqs.qzv\u001b[0m\n",
            "\u001b[0m"
          ]
        }
      ]
    },
    {
      "cell_type": "markdown",
      "source": [
        "Now have a look at the demux_seqs.qzv file. How do you do that? You have to go to the folder icon: on the left (just underneath 🔑). Find the demux_seqs.qzv file and download it onto your computer. Then go to [view.qiime2.org](https://view.qiime2.org) and upload that file there. This will produce a report.\n",
        "\n",
        "\n",
        "Question: How should you trim your reads?"
      ],
      "metadata": {
        "id": "UJAw3tDHGCCt"
      }
    },
    {
      "cell_type": "markdown",
      "source": [
        "## Part 3. Denoise amplicon sequence variants.\n",
        "\n",
        "Now that you have imported your reads into qiime you want to construct a feature table. Feature table is a type of artifact accepted by many QIIME 2 plugins/actions and used in many downstream analyses.\n",
        "\n",
        "There are several ways to construct a feature table in QIIME 2. The major choice to make while working with sequencing data is between ASVs and OTUs. ASVs - clustering the reads by 99%-100% similarity, OTUs - clustering the reads by 97% similarity. Below you will see how to perform denoising of sequences to produce a table of ASVs.\n",
        "\n",
        "DADA2: Amplicon Sequence Variants\n",
        "There exist several tools one can use for denoising of NGS reads. Here, we will use DADA2 to create a feature table of ASVs. DADA2 builds an error model which can identify differences between sequences, filters out noisy sequences and generates a feature table with error-corrected sequences.\n",
        "\n",
        "To denoise the single-end reads we execute the cell below, specifying some additional parameters/outputs:\n",
        "\n",
        "*   p-trunc-len - we will truncate the reads to 135 bp (sequences shorter than this will be removed automatically)\n",
        "*   p-n-threads - if we have more than 1 CPU available, we can specify the number here to make the processing faster\n",
        "*   output-dir:\n",
        "  *   o-table - this will be our ASVs feature table\n",
        "  *   o-representative-sequences - this will be a list of all the denoised features (DNA sequences)\n",
        "  *   o-denoising-stats - this will be some stats from the denoising process"
      ],
      "metadata": {
        "id": "pbWJ-xCqHoNn"
      }
    },
    {
      "cell_type": "code",
      "source": [
        "!qiime dada2 denoise-single --i-demultiplexed-seqs data/demux_seqs.qza  \\\n",
        "                            --p-trunc-len 135   \\\n",
        "                            --o-table table.qza   \\\n",
        "                            --o-representative-sequences dada2_rep_set.qza   \\\n",
        "                            --o-denoising-stats dada2_denoising_stats.qza"
      ],
      "metadata": {
        "colab": {
          "base_uri": "https://localhost:8080/"
        },
        "id": "W6TjxhXtI7us",
        "outputId": "affb1105-75ac-4ea3-8bd2-edca9b8b6db8"
      },
      "execution_count": 8,
      "outputs": [
        {
          "output_type": "stream",
          "name": "stdout",
          "text": [
            "\u001b[32mSaved FeatureTable[Frequency] to: table.qza\u001b[0m\n",
            "\u001b[32mSaved FeatureData[Sequence] to: dada2_rep_set.qza\u001b[0m\n",
            "\u001b[32mSaved SampleData[DADA2Stats] to: dada2_denoising_stats.qza\u001b[0m\n",
            "\u001b[0m"
          ]
        }
      ]
    },
    {
      "cell_type": "code",
      "source": [
        "# Optional\n",
        "! qiime metadata tabulate \\\n",
        "    --m-input-file dada2_denoising_stats.qza \\\n",
        "    --o-visualization dada2_denoising_stats.qzv"
      ],
      "metadata": {
        "id": "NO5YO5FWJego",
        "outputId": "dd1bb9f2-e9de-4e76-889d-56cb30a5296b",
        "colab": {
          "base_uri": "https://localhost:8080/"
        }
      },
      "execution_count": 9,
      "outputs": [
        {
          "output_type": "stream",
          "name": "stdout",
          "text": [
            "\u001b[32mSaved Visualization to: dada2_denoising_stats.qzv\u001b[0m\n",
            "\u001b[0m"
          ]
        }
      ]
    },
    {
      "cell_type": "code",
      "source": [
        "! qiime feature-table summarize \\\n",
        "    --i-table table.qza \\\n",
        "    --m-sample-metadata-file data/sample_metadata.tsv \\\n",
        "    --o-visualization table.qzv"
      ],
      "metadata": {
        "id": "AuBsdBLMJiMA",
        "outputId": "15b8d05c-9f3c-48a0-f221-78837ed0242c",
        "colab": {
          "base_uri": "https://localhost:8080/"
        }
      },
      "execution_count": 10,
      "outputs": [
        {
          "output_type": "stream",
          "name": "stdout",
          "text": [
            "\u001b[32mSaved Visualization to: table.qzv\u001b[0m\n",
            "\u001b[0m"
          ]
        }
      ]
    },
    {
      "cell_type": "code",
      "source": [
        "# Optional\n",
        "! qiime feature-table tabulate-seqs \\\n",
        "    --i-data dada2_rep_set.qza \\\n",
        "    --o-visualization representative_sequences.qzv"
      ],
      "metadata": {
        "id": "z4E_V3tIJlYi",
        "outputId": "527e5b06-9946-4284-aadf-636745218d40",
        "colab": {
          "base_uri": "https://localhost:8080/"
        }
      },
      "execution_count": 24,
      "outputs": [
        {
          "output_type": "stream",
          "name": "stdout",
          "text": [
            "\u001b[32mSaved Visualization to: representative_sequences.qzv\u001b[0m\n",
            "\u001b[0m"
          ]
        }
      ]
    },
    {
      "cell_type": "markdown",
      "source": [
        "After you have run all of these commands, have a look at the reports. As per usual, download .qzv files and upload them to view.qiime2.org.\n",
        "\n",
        "\n",
        "Questions:\n",
        " * What is the percentage or reads that remains after all the filtering?"
      ],
      "metadata": {
        "id": "1bEd88jqJmRh"
      }
    },
    {
      "cell_type": "markdown",
      "source": [
        "## Part 4. Generate a phylogenetic tree.\n",
        "\n",
        "We need to now generate a phylogenetic tree for diversity metrics. A tree is usually generate in a newick format and you can view that file using [iTOL](https://itol.embl.de/upload.cgi) or [phylo.io](https://beta.phylo.io/viewer/)."
      ],
      "metadata": {
        "id": "fCNqAfcAP-5j"
      }
    },
    {
      "cell_type": "code",
      "source": [
        "! qiime phylogeny align-to-tree-mafft-fasttree \\\n",
        "    --i-sequences dada2_rep_set.qza \\\n",
        "    --output-dir phylogeny"
      ],
      "metadata": {
        "id": "KxFkJLecP-CK",
        "outputId": "c0c37f17-afbe-4eb9-9701-b3e99ea5ce02",
        "colab": {
          "base_uri": "https://localhost:8080/"
        }
      },
      "execution_count": 25,
      "outputs": [
        {
          "output_type": "stream",
          "name": "stdout",
          "text": [
            "\u001b[32mSaved FeatureData[AlignedSequence] to: phylogeny/alignment.qza\u001b[0m\n",
            "\u001b[32mSaved FeatureData[AlignedSequence] to: phylogeny/masked_alignment.qza\u001b[0m\n",
            "\u001b[32mSaved Phylogeny[Unrooted] to: phylogeny/tree.qza\u001b[0m\n",
            "\u001b[32mSaved Phylogeny[Rooted] to: phylogeny/rooted_tree.qza\u001b[0m\n",
            "\u001b[0m"
          ]
        }
      ]
    },
    {
      "cell_type": "markdown",
      "source": [
        "### Lets estimate some diversity metrics\n",
        "\n",
        "First lets generate all diversity metrics. This is usually done by subsampling all samples to the same depth. If you have a huge variability in the depth of your samples this will cause loss of information from the samples that are have higher sequencing depht then the rest.\n",
        "\n",
        "Afterwards we measure the significance in faith PD alpha diversity across all the samples.\n",
        "\n",
        "And the finally we will create an Emperor plot (3D PCA) plot\n"
      ],
      "metadata": {
        "id": "I7YC_c3xQ96c"
      }
    },
    {
      "cell_type": "code",
      "source": [
        "! qiime diversity core-metrics-phylogenetic \\\n",
        "    --i-phylogeny phylogeny/rooted_tree.qza \\\n",
        "    --i-table table.qza \\\n",
        "    --p-sampling-depth 1100 \\\n",
        "    --m-metadata-file data/sample_metadata.tsv \\\n",
        "    --output-dir core-metrics-results"
      ],
      "metadata": {
        "id": "Mx4Fe0UMn4jn",
        "outputId": "08c926a8-0ed8-434c-92e0-ff33eb4a45e9",
        "colab": {
          "base_uri": "https://localhost:8080/"
        }
      },
      "execution_count": 26,
      "outputs": [
        {
          "output_type": "stream",
          "name": "stdout",
          "text": [
            "\u001b[32mSaved FeatureTable[Frequency] to: core-metrics-results/rarefied_table.qza\u001b[0m\n",
            "\u001b[32mSaved SampleData[AlphaDiversity] to: core-metrics-results/faith_pd_vector.qza\u001b[0m\n",
            "\u001b[32mSaved SampleData[AlphaDiversity] to: core-metrics-results/observed_features_vector.qza\u001b[0m\n",
            "\u001b[32mSaved SampleData[AlphaDiversity] to: core-metrics-results/shannon_vector.qza\u001b[0m\n",
            "\u001b[32mSaved SampleData[AlphaDiversity] to: core-metrics-results/evenness_vector.qza\u001b[0m\n",
            "\u001b[32mSaved DistanceMatrix to: core-metrics-results/unweighted_unifrac_distance_matrix.qza\u001b[0m\n",
            "\u001b[32mSaved DistanceMatrix to: core-metrics-results/weighted_unifrac_distance_matrix.qza\u001b[0m\n",
            "\u001b[32mSaved DistanceMatrix to: core-metrics-results/jaccard_distance_matrix.qza\u001b[0m\n",
            "\u001b[32mSaved DistanceMatrix to: core-metrics-results/bray_curtis_distance_matrix.qza\u001b[0m\n",
            "\u001b[32mSaved PCoAResults to: core-metrics-results/unweighted_unifrac_pcoa_results.qza\u001b[0m\n",
            "\u001b[32mSaved PCoAResults to: core-metrics-results/weighted_unifrac_pcoa_results.qza\u001b[0m\n",
            "\u001b[32mSaved PCoAResults to: core-metrics-results/jaccard_pcoa_results.qza\u001b[0m\n",
            "\u001b[32mSaved PCoAResults to: core-metrics-results/bray_curtis_pcoa_results.qza\u001b[0m\n",
            "\u001b[32mSaved Visualization to: core-metrics-results/unweighted_unifrac_emperor.qzv\u001b[0m\n",
            "\u001b[32mSaved Visualization to: core-metrics-results/weighted_unifrac_emperor.qzv\u001b[0m\n",
            "\u001b[32mSaved Visualization to: core-metrics-results/jaccard_emperor.qzv\u001b[0m\n",
            "\u001b[32mSaved Visualization to: core-metrics-results/bray_curtis_emperor.qzv\u001b[0m\n",
            "\u001b[0m"
          ]
        }
      ]
    },
    {
      "cell_type": "code",
      "source": [
        "! qiime diversity alpha-group-significance \\\n",
        "    --i-alpha-diversity core-metrics-results/faith_pd_vector.qza \\\n",
        "    --m-metadata-file data/sample_metadata.tsv \\\n",
        "    --o-visualization core-metrics-results/faith_pd_group_significance.qzv"
      ],
      "metadata": {
        "id": "sh14HDELn5IK",
        "outputId": "58a63ed9-23c7-4e50-93cc-be32fa0db757",
        "colab": {
          "base_uri": "https://localhost:8080/"
        }
      },
      "execution_count": 27,
      "outputs": [
        {
          "output_type": "stream",
          "name": "stdout",
          "text": [
            "\u001b[32mSaved Visualization to: core-metrics-results/faith_pd_group_significance.qzv\u001b[0m\n",
            "\u001b[0m"
          ]
        }
      ]
    },
    {
      "cell_type": "code",
      "source": [
        "! qiime emperor plot \\\n",
        "    --i-pcoa core-metrics-results/bray_curtis_pcoa_results.qza \\\n",
        "    --m-metadata-file data/sample_metadata.tsv \\\n",
        "    --o-visualization core-metrics-results/bray_curtis_pcoa.qzv"
      ],
      "metadata": {
        "id": "yZ5jveLatyEY",
        "outputId": "7fee028b-01a7-4356-c0a4-56779467ae0f",
        "colab": {
          "base_uri": "https://localhost:8080/"
        }
      },
      "execution_count": 28,
      "outputs": [
        {
          "output_type": "stream",
          "name": "stdout",
          "text": [
            "\u001b[32mSaved Visualization to: core-metrics-results/bray_curtis_pcoa.qzv\u001b[0m\n",
            "\u001b[0m"
          ]
        }
      ]
    },
    {
      "cell_type": "markdown",
      "source": [
        "Download the PCoAa and have a look at the clustering of samples. Do you identify anything unusual?"
      ],
      "metadata": {
        "id": "VMxP9pk4v22c"
      }
    },
    {
      "cell_type": "markdown",
      "source": [
        "# Part 5: Classify sequences by taxonomy\n",
        "\n",
        "There are several ways to classify your sequences into bacterial species. One of them is to use consensus assignment based on e.g. BLAST search of a sequence against a database of known sequences. Another one is using a machine learning classifier trained on a reference database to recognize corresponding bacterial species. We will use a pretrained classifier to identify bacterial species present in our samples.\n",
        "\n",
        "We can use the `classify-sklearn` action from the feature-classifier plugin to do that. This step will require the `FeatureData[Sequence]` artifact (containing our ASVs) that we generated previously and a pre-trained taxonomic classifier. The classifier is based on SILVA database. There are many different databases you can use. The most often used ones are [SILVA](https://www.arb-silva.de/) and [Greengenes](https://greengenes.secondgenome.com/)"
      ],
      "metadata": {
        "id": "lLPqnXmPt3IG"
      }
    },
    {
      "cell_type": "code",
      "source": [
        "! wget https://data.qiime2.org/2023.9/common/gg-13-8-99-515-806-nb-weighted-classifier.qza"
      ],
      "metadata": {
        "id": "WxHl5cqFukEb",
        "outputId": "89da6b46-3e79-4d9d-d359-184efebe27ca",
        "colab": {
          "base_uri": "https://localhost:8080/"
        }
      },
      "execution_count": 29,
      "outputs": [
        {
          "output_type": "stream",
          "name": "stdout",
          "text": [
            "--2024-05-16 21:23:11--  https://data.qiime2.org/2023.9/common/gg-13-8-99-515-806-nb-weighted-classifier.qza\n",
            "Resolving data.qiime2.org (data.qiime2.org)... 54.200.1.12\n",
            "Connecting to data.qiime2.org (data.qiime2.org)|54.200.1.12|:443... connected.\n",
            "HTTP request sent, awaiting response... 302 FOUND\n",
            "Location: https://s3-us-west-2.amazonaws.com/qiime2-data/2023.9/common/gg-13-8-99-515-806-nb-weighted-classifier.qza [following]\n",
            "--2024-05-16 21:23:11--  https://s3-us-west-2.amazonaws.com/qiime2-data/2023.9/common/gg-13-8-99-515-806-nb-weighted-classifier.qza\n",
            "Resolving s3-us-west-2.amazonaws.com (s3-us-west-2.amazonaws.com)... 52.92.237.152, 52.218.220.176, 52.218.230.8, ...\n",
            "Connecting to s3-us-west-2.amazonaws.com (s3-us-west-2.amazonaws.com)|52.92.237.152|:443... connected.\n",
            "HTTP request sent, awaiting response... 200 OK\n",
            "Length: 28738550 (27M) [binary/octet-stream]\n",
            "Saving to: ‘gg-13-8-99-515-806-nb-weighted-classifier.qza.1’\n",
            "\n",
            "gg-13-8-99-515-806- 100%[===================>]  27.41M  26.2MB/s    in 1.0s    \n",
            "\n",
            "2024-05-16 21:23:12 (26.2 MB/s) - ‘gg-13-8-99-515-806-nb-weighted-classifier.qza.1’ saved [28738550/28738550]\n",
            "\n"
          ]
        }
      ]
    },
    {
      "cell_type": "code",
      "source": [
        "! qiime feature-classifier classify-sklearn \\\n",
        "    --i-reads dada2_rep_set.qza \\\n",
        "    --i-classifier gg-13-8-99-515-806-nb-weighted-classifier.qza \\\n",
        "    --p-n-jobs 2 \\\n",
        "    --output-dir taxonomy"
      ],
      "metadata": {
        "id": "5pjFZVJ_unVF",
        "outputId": "6a3598b5-eb16-4f02-8334-5e9dd02be002",
        "colab": {
          "base_uri": "https://localhost:8080/"
        }
      },
      "execution_count": 30,
      "outputs": [
        {
          "output_type": "stream",
          "name": "stdout",
          "text": [
            "\u001b[32mSaved FeatureData[Taxonomy] to: taxonomy/classification.qza\u001b[0m\n",
            "\u001b[0m"
          ]
        }
      ]
    },
    {
      "cell_type": "code",
      "source": [
        "! qiime metadata tabulate \\\n",
        "    --m-input-file taxonomy/classification.qza \\\n",
        "    --o-visualization taxonomy/classification.qzv"
      ],
      "metadata": {
        "id": "GqcX70G0uorF",
        "outputId": "acbac38f-b61a-4262-bf25-0b88a00c93f1",
        "colab": {
          "base_uri": "https://localhost:8080/"
        }
      },
      "execution_count": 31,
      "outputs": [
        {
          "output_type": "stream",
          "name": "stdout",
          "text": [
            "\u001b[32mSaved Visualization to: taxonomy/classification.qzv\u001b[0m\n",
            "\u001b[0m"
          ]
        }
      ]
    },
    {
      "cell_type": "code",
      "source": [
        "! qiime taxa barplot \\\n",
        "    --i-table table.qza \\\n",
        "    --i-taxonomy taxonomy/classification.qza \\\n",
        "    --m-metadata-file data/sample_metadata.tsv \\\n",
        "    --o-visualization taxonomy/taxa_barplot.qzv"
      ],
      "metadata": {
        "id": "vqO1yKgmurdj",
        "outputId": "b03addef-6519-4b11-be54-fa4ddb3a358b",
        "colab": {
          "base_uri": "https://localhost:8080/"
        }
      },
      "execution_count": 32,
      "outputs": [
        {
          "output_type": "stream",
          "name": "stdout",
          "text": [
            "\u001b[32mSaved Visualization to: taxonomy/taxa_barplot.qzv\u001b[0m\n",
            "\u001b[0m"
          ]
        }
      ]
    },
    {
      "cell_type": "markdown",
      "source": [
        "Download the taxa_barplot visualisation. Which genus do you identify as differentially abundant between gut and the two hands?"
      ],
      "metadata": {
        "id": "wsf6sKVkviPS"
      }
    },
    {
      "cell_type": "markdown",
      "source": [
        "## Optional section: Understand differentially abundant features\n",
        "\n",
        "This section may be omitted for time, but provides an interesting mechanistic view of microbiome interactions.\n",
        "\n",
        "Differential abundance in QIIME2 can be measured with various different metrics. One of them is ANCOMBC2: https://www.nature.com/articles/s41592-023-02092-7"
      ],
      "metadata": {
        "id": "fzDVbqN6u1u7"
      }
    },
    {
      "cell_type": "code",
      "source": [
        "! mkdir diff_abund\n",
        "\n",
        "! qiime taxa collapse \\\n",
        "    --i-table table.qza \\\n",
        "    --i-taxonomy taxonomy/classification.qza \\\n",
        "    --p-level 6 \\\n",
        "    --o-collapsed-table diff_abund/table_l6.qza"
      ],
      "metadata": {
        "id": "HO9zrVJtutfQ",
        "outputId": "414e19f5-7ff1-4ec0-a6bf-f484c75cbb5d",
        "colab": {
          "base_uri": "https://localhost:8080/"
        }
      },
      "execution_count": 33,
      "outputs": [
        {
          "output_type": "stream",
          "name": "stdout",
          "text": [
            "mkdir: cannot create directory ‘diff_abund’: File exists\n",
            "\u001b[32mSaved FeatureTable[Frequency] to: diff_abund/table_l6.qza\u001b[0m\n",
            "\u001b[0m"
          ]
        }
      ]
    },
    {
      "cell_type": "code",
      "source": [
        "! qiime composition add-pseudocount \\\n",
        "    --i-table diff_abund/table_l6.qza \\\n",
        "    --o-composition-table diff_abund/comp_table_l6.qza"
      ],
      "metadata": {
        "id": "Ji_tYZZrvNg0",
        "outputId": "2357f108-b402-4a4c-8a4d-f501bbc2786d",
        "colab": {
          "base_uri": "https://localhost:8080/"
        }
      },
      "execution_count": 34,
      "outputs": [
        {
          "output_type": "stream",
          "name": "stdout",
          "text": [
            "\u001b[32mSaved FeatureTable[Composition] to: diff_abund/comp_table_l6.qza\u001b[0m\n",
            "\u001b[0m"
          ]
        }
      ]
    },
    {
      "cell_type": "code",
      "source": [
        "! qiime feature-table filter-samples \\\n",
        "    --i-table diff_abund/comp_table_l6.qza \\\n",
        "    --m-metadata-file data/sample_metadata.tsv \\\n",
        "    --p-where \"[body-site]='gut'\" \\\n",
        "    --o-filtered-table diff_abund/comp_gut_table_l6.qza"
      ],
      "metadata": {
        "id": "xcpke9I1vPA-",
        "outputId": "7eaa2a51-e3be-46d0-a96a-5b04f21ee9e1",
        "colab": {
          "base_uri": "https://localhost:8080/"
        }
      },
      "execution_count": 35,
      "outputs": [
        {
          "output_type": "stream",
          "name": "stdout",
          "text": [
            "\u001b[32mSaved FeatureTable[Composition] to: diff_abund/comp_gut_table_l6.qza\u001b[0m\n",
            "\u001b[0m"
          ]
        }
      ]
    },
    {
      "cell_type": "code",
      "source": [
        "! qiime composition ancom \\\n",
        "    --i-table diff_abund/comp_gut_table_l6.qza \\\n",
        "    --m-metadata-file data/sample_metadata.tsv \\\n",
        "    --m-metadata-column subject \\\n",
        "    --o-visualization diff_abund/ancom_gut_subject_l6.qzv"
      ],
      "metadata": {
        "id": "5sdZZwfivQYG",
        "outputId": "fcfc2bc3-32e9-4c38-f13c-b03709053718",
        "colab": {
          "base_uri": "https://localhost:8080/"
        }
      },
      "execution_count": 36,
      "outputs": [
        {
          "output_type": "stream",
          "name": "stdout",
          "text": [
            "\u001b[32mSaved Visualization to: diff_abund/ancom_gut_subject_l6.qzv\u001b[0m\n",
            "\u001b[0m"
          ]
        }
      ]
    },
    {
      "cell_type": "markdown",
      "source": [
        "Download the visualisation (ancom_gut_subject_l6.qzv). How many features are differentially abundant?"
      ],
      "metadata": {
        "id": "KQbJx2ZJvYq-"
      }
    }
  ]
}